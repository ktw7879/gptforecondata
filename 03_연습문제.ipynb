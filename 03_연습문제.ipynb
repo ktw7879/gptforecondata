{
 "cells": [
  {
   "cell_type": "markdown",
   "metadata": {},
   "source": [
    "### 연습문제"
   ]
  },
  {
   "cell_type": "markdown",
   "metadata": {},
   "source": [
    "#### 연습문제 1\n",
    "- KOSIS Open API를 통해 특정 통계 데이터를 가져오기 위해 필요한 기본적인 요청 URL의 구성 요소는 무엇인지 설명하세요."
   ]
  },
  {
   "cell_type": "markdown",
   "metadata": {},
   "source": [
    "<small>발급된 인증 key, 사용자 등록 통계표, 수록주기, 결과 유형(json)</small>"
   ]
  },
  {
   "cell_type": "markdown",
   "metadata": {},
   "source": [
    "#### 연습문제 2\n",
    "- 아래의 URL을 사용하여 데이터를 가져오는 코드를 작성하세요.\n",
    "-url = \"https://kosis.kr/openapi/Param/statisticsParameterData.do?method=getList&apiKey=YOUR_API_KEY&itmId=T1+T5+&objL1=0+1+2+3+4+5+6+7+8+9+A+B+C+D+E+F+G+H+I+J+&objL2=0+1+2+&objL3=00+03+04+05+10+15+20+25+30+35+40+45+50+55+60+65+70+75+82+80+85+90+12+62+63+95+&objL4=&objL5=&objL6=&objL7=&objL8=&format=json&jsonVD=Y&prdSe=Y&newEstPrdCnt=3&orgId=101&tblId=DT_1B34E01\"\n"
   ]
  },
  {
   "cell_type": "code",
   "execution_count": null,
   "metadata": {},
   "outputs": [],
   "source": [
    "import requests\n",
    "\n",
    "url = \"https://kosis.kr/openapi/Param/statisticsParameterData.do?method=getList&apiKey=YOUR_API_KEY&itmId=T1+T5+&objL1=0+1+2+3+4+5+6+7+8+9+A+B+C+D+E+F+G+H+I+J+&objL2=0+1+2+&objL3=00+03+04+05+10+15+20+25+30+35+40+45+50+55+60+65+70+75+82+80+85+90+12+62+63+95+&objL4=&objL5=&objL6=&objL7=&objL8=&format=json&jsonVD=Y&prdSe=Y&newEstPrdCnt=3&orgId=101&tblId=DT_1B34E01\"\n",
    "\n",
    "response = requests.get(url)\n",
    "\n",
    "# 응답 상태 코드 확인\n",
    "if response.status_code == 200:\n",
    "    data = response.json()\n",
    "    print(data)\n",
    "else:\n",
    "    print(f\"API 호출 실패: {response.status_code}\")\n"
   ]
  },
  {
   "cell_type": "markdown",
   "metadata": {},
   "source": [
    "#### 연습문제 3\n",
    "- 문제 2에서 가져온 JSON 데이터를 pandas 라이브러리를 사용하여 데이터프레임으로 변환하는 코드를 작성하세요."
   ]
  },
  {
   "cell_type": "code",
   "execution_count": null,
   "metadata": {},
   "outputs": [],
   "source": [
    "import pandas as pd\n",
    "\n",
    "# JSON 데이터를 데이터프레임으로 변환\n",
    "df = pd.json_normalize(data)\n"
   ]
  },
  {
   "cell_type": "markdown",
   "metadata": {},
   "source": [
    "#### 연습문제 4\n",
    "- 변환된 데이터프레임을 확인하기 위해 데이터프레임의 상위 5개 행을 출력하는 코드를 작성하세요."
   ]
  },
  {
   "cell_type": "code",
   "execution_count": null,
   "metadata": {},
   "outputs": [],
   "source": [
    "# 데이터프레임의 상위 5개 행을 출력\n",
    "print(df.head())\n"
   ]
  },
  {
   "cell_type": "markdown",
   "metadata": {},
   "source": [
    "#### 문제 5\n",
    "- 변환된 데이터프레임을 CSV 파일로 저장하는 코드를 작성하세요. 파일 이름은 kosis_data.csv로 저장하고, UTF-8 인코딩을 사용하세요."
   ]
  },
  {
   "cell_type": "code",
   "execution_count": null,
   "metadata": {},
   "outputs": [],
   "source": [
    "# 데이터프레임을 CSV 파일로 저장\n",
    "df.to_csv('kosis_data.csv', index=False, encoding='utf-8-sig')\n",
    "print(\"데이터가 'kosis_data.csv'에 저장되었습니다.\")\n"
   ]
  }
 ],
 "metadata": {
  "language_info": {
   "name": "python"
  }
 },
 "nbformat": 4,
 "nbformat_minor": 2
}
