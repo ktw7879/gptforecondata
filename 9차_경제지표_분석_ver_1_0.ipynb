{
  "nbformat": 4,
  "nbformat_minor": 0,
  "metadata": {
    "colab": {
      "provenance": [],
      "authorship_tag": "ABX9TyPvWUI8YLNlHCQgbSOvnFlf",
      "include_colab_link": true
    },
    "kernelspec": {
      "name": "python3",
      "display_name": "Python 3"
    },
    "language_info": {
      "name": "python"
    }
  },
  "cells": [
    {
      "cell_type": "markdown",
      "metadata": {
        "id": "view-in-github",
        "colab_type": "text"
      },
      "source": [
        "<a href=\"https://colab.research.google.com/github/dmlcks123/gptforecondata/blob/main/9%EC%B0%A8_%EA%B2%BD%EC%A0%9C%EC%A7%80%ED%91%9C_%EB%B6%84%EC%84%9D_ver_1_0.ipynb\" target=\"_parent\"><img src=\"https://colab.research.google.com/assets/colab-badge.svg\" alt=\"Open In Colab\"/></a>"
      ]
    },
    {
      "cell_type": "markdown",
      "source": [
        "# 주요 경제지표 분석\n",
        "- 이 장에서는 우리나라의 경제 상황을 확인 할 수 있는 주요 경제지표를 수집하고, 그래프를 통해 여러 경제지표를 동시에 비교하는 방법을 습득하고자 함\n",
        "- 또한 최근 텍스트 마이닝을 통한 경제지표 개발 사례를 살펴보고, 앞서 학습한 크롤링, 텍스트 분석을 활용해 텍스트 마이닝을 통한 경제지표를 개발하는 실습을 진행하고자 함\n",
        "\n",
        "# 경제지표의 정의\n",
        "- 경제력 혹은 국민의 생활 수준 등 경제활동 상황을 나타내는 다양한 형태의 지표로 대표적으로 국태총생산(GDP), 고용률, 실업률 등이 있음\n",
        "\n",
        "## 경제지표의 구분\n",
        "- 경제지표는 각 지표가 나타내는 경제활동 상황과 특성에 따라 다양하게 구분이 가능함\n",
        "- 한국은행에서 주기적으로 발간하는 알기 쉬운 경제지표해설에서는 크게는 \"실물, 고용 및 기업경영 지표\", \"금융, 물가 및 재정지표\", \"대외거래지표\"로 구분하고 있음\n",
        "- 각 지표는 경기동향을 예측하는데 사용되는 선행지표, 현재의 경기 상황을 나타내는 동행지표, 경기의 변동을 사후적으로 확인하는 후행지표로 구분하기도 함\n",
        "    - 대표적인 선행지표로는 구인구직비율, 건설수주액, 재고순환지표 등이 있으며, 경기 동향을 예측하는 9개 지수를 종합하여 선행종합지수를 작성함\n",
        "    - 동행지표로는 광공업생산지수, 소매판매액지수, 비농림어업취업자수가 있으며, 7개 지표로 구성된 동행종합지수를 작성함\n",
        "    - 후행지표는 생산자제품재고지수, 회사채유통수익률, 가계소비지출이 있으며, 5개 지표로 후행종합지수를 산정함\n",
        "\n",
        "## 경제지표 수집\n",
        "\n",
        "- 경제지표는 다양한 기관에서 발표하고 있으며, 잘 알려진 지표는 보통 통계청이나 한국은행 등에서 쉽게 구할 수 있음\n",
        "\n",
        "#### 다운로드\n",
        "- 아래 url에 접근하면 원자료가 입력된 엑셀 혹은 각 사이트에서 제공하는 그래프를 그림파일 형태로 내려받을 수 있음\n",
        "    - 한국은행 100대 통계지표: https://ecos.bok.or.kr/#/StatisticsByTheme/KoreanStat100\n",
        "    - KOSIS 100대 지표: https://kosis.kr/visual/nsportalStats/main.do\n",
        "    - KDI 경제정보센터 경제지표: https://eiec.kdi.re.kr/bigdata/indicators.do\n",
        "\n",
        "#### OpenAPI\n",
        "- 통계청: 통계청에서 원하는 통계를 검색 후 세부 설정을 마친 뒤 OPENAPI를 클릭하면 설정된 페이지 형태로 데이터를 얻을 수 있는 주소를 알려줌\n",
        "    - 조회량을 적게 한 뒤 조회된 내용과 url을 ChatGPT에 입력하고 Dataframe을 생성해 달라는 내용을 전달하면 분석에 필요한 데이터를 확보 가능함\n",
        "    - 아래는 경제심리지수"
      ],
      "metadata": {
        "id": "mbPh3zbIaO9A"
      }
    },
    {
      "cell_type": "code",
      "source": [
        "import requests\n",
        "import pandas as pd\n",
        "\n",
        "# URL of the API\n",
        "url = \"https://kosis.kr/openapi/Param/statisticsParameterData.do?method=getList&apiKey=ZDE3ZTViNDMwNGJmZDU4YzgyMjE2Nzk2ZTIyNjcwMGY=&itmId=T1+&objL1=A01+B02+C03+&objL2=&objL3=&objL4=&objL5=&objL6=&objL7=&objL8=&format=json&jsonVD=Y&prdSe=M&newEstPrdCnt=60&outputFields=NM_ENG+PRD_DE+&orgId=101&tblId=DT_1C8016\"\n",
        "\n",
        "# Call the API\n",
        "response = requests.get(url)\n",
        "data = response.json()\n",
        "\n",
        "# Convert JSON response to DataFrame\n",
        "df = pd.DataFrame(data)\n",
        "\n",
        "# Pivoting the DataFrame to wide form\n",
        "df_kosis = df.pivot(index='PRD_DE', columns='C1_NM_ENG', values='DT').reset_index()\n",
        "\n",
        "df_kosis = df_kosis.rename(columns={' Composite Coincident Index (2020＝100)': 'Coincident_Index',\n",
        "                                    ' Composite Lagging Index  (2020＝100)': 'Lagging_Index',\n",
        "                                    ' Composite Leading Index (2020＝100)': 'Leading_Index'})\n",
        "\n",
        "df_kosis.head()"
      ],
      "metadata": {
        "id": "ZXfVwd_laP3T"
      },
      "execution_count": null,
      "outputs": []
    },
    {
      "cell_type": "markdown",
      "source": [
        "- OECD는 별도의 가입절차 없이 OPENAPI를 제공함"
      ],
      "metadata": {
        "id": "-rO5TOiEhwoA"
      }
    },
    {
      "cell_type": "code",
      "source": [
        "#| echo: true\n",
        "#| code-fold: true\n",
        "#| code-summary: \"expand for full code\"\n",
        "import requests\n",
        "import xml.etree.ElementTree as ET\n",
        "import pandas as pd\n",
        "\n",
        "# API URL\n",
        "url = \"https://sdmx.oecd.org/public/rest/data/OECD.SDD.TPS,DSD_LFS@DF_IALFS_UNE_M,1.0/OECD+KOR..._Z.Y._T.Y_GE15..M?startPeriod=2020-04\"\n",
        "\n",
        "# API 호출\n",
        "response = requests.get(url)\n",
        "\n",
        "# XML 파싱\n",
        "root = ET.fromstring(response.content)\n",
        "\n",
        "# 데이터를 저장할 리스트 초기화\n",
        "data = []\n",
        "\n",
        "# XML에서 데이터 추출\n",
        "for series in root.findall('.//generic:Series', namespaces={'generic': 'http://www.sdmx.org/resources/sdmxml/schemas/v2_1/data/generic'}):\n",
        "    ref_area = series.find('./generic:SeriesKey/generic:Value[@id=\"REF_AREA\"]', namespaces={'generic': 'http://www.sdmx.org/resources/sdmxml/schemas/v2_1/data/generic'}).attrib['value']\n",
        "    measure = series.find('./generic:SeriesKey/generic:Value[@id=\"MEASURE\"]', namespaces={'generic': 'http://www.sdmx.org/resources/sdmxml/schemas/v2_1/data/generic'}).attrib['value']\n",
        "    unit_measure = series.find('./generic:SeriesKey/generic:Value[@id=\"UNIT_MEASURE\"]', namespaces={'generic': 'http://www.sdmx.org/resources/sdmxml/schemas/v2_1/data/generic'}).attrib['value']\n",
        "    transformation = series.find('./generic:SeriesKey/generic:Value[@id=\"TRANSFORMATION\"]', namespaces={'generic': 'http://www.sdmx.org/resources/sdmxml/schemas/v2_1/data/generic'}).attrib['value']\n",
        "    adjustment = series.find('./generic:SeriesKey/generic:Value[@id=\"ADJUSTMENT\"]', namespaces={'generic': 'http://www.sdmx.org/resources/sdmxml/schemas/v2_1/data/generic'}).attrib['value']\n",
        "    sex = series.find('./generic:SeriesKey/generic:Value[@id=\"SEX\"]', namespaces={'generic': 'http://www.sdmx.org/resources/sdmxml/schemas/v2_1/data/generic'}).attrib['value']\n",
        "    age = series.find('./generic:SeriesKey/generic:Value[@id=\"AGE\"]', namespaces={'generic': 'http://www.sdmx.org/resources/sdmxml/schemas/v2_1/data/generic'}).attrib['value']\n",
        "    activity = series.find('./generic:SeriesKey/generic:Value[@id=\"ACTIVITY\"]', namespaces={'generic': 'http://www.sdmx.org/resources/sdmxml/schemas/v2_1/data/generic'}).attrib['value']\n",
        "    freq = series.find('./generic:SeriesKey/generic:Value[@id=\"FREQ\"]', namespaces={'generic': 'http://www.sdmx.org/resources/sdmxml/schemas/v2_1/data/generic'}).attrib['value']\n",
        "\n",
        "    for obs in series.findall('.//generic:Obs', namespaces={'generic': 'http://www.sdmx.org/resources/sdmxml/schemas/v2_1/data/generic'}):\n",
        "        time_period = obs.find('./generic:ObsDimension', namespaces={'generic': 'http://www.sdmx.org/resources/sdmxml/schemas/v2_1/data/generic'}).attrib['value']\n",
        "        value = obs.find('./generic:ObsValue', namespaces={'generic': 'http://www.sdmx.org/resources/sdmxml/schemas/v2_1/data/generic'}).attrib['value']\n",
        "        obs_status = obs.find('./generic:Attributes/generic:Value[@id=\"OBS_STATUS\"]', namespaces={'generic': 'http://www.sdmx.org/resources/sdmxml/schemas/v2_1/data/generic'}).attrib['value']\n",
        "\n",
        "        # 데이터를 리스트에 추가\n",
        "        data.append({\n",
        "            \"TIME_PERIOD\": time_period,\n",
        "            \"REF_AREA\": ref_area,\n",
        "            \"MEASURE\": measure,\n",
        "            \"UNIT_MEASURE\": unit_measure,\n",
        "            \"TRANSFORMATION\": transformation,\n",
        "            \"ADJUSTMENT\": adjustment,\n",
        "            \"SEX\": sex,\n",
        "            \"AGE\": age,\n",
        "            \"ACTIVITY\": activity,\n",
        "            \"FREQ\": freq,\n",
        "            \"VALUE\": float(value),\n",
        "            \"OBS_STATUS\": obs_status\n",
        "        })\n",
        "\n",
        "# DataFrame 생성\n",
        "df_oecd = pd.DataFrame(data)\n",
        "\n",
        "# 데이터프레임 출력\n",
        "df_oecd.head()"
      ],
      "metadata": {
        "id": "2baRh-mVhxlG"
      },
      "execution_count": null,
      "outputs": []
    },
    {
      "cell_type": "markdown",
      "source": [
        "#### 실업률과 경기종합지수\n",
        "- 두 데이터 프레임을 병합"
      ],
      "metadata": {
        "id": "uR6i3yb2iAj1"
      }
    },
    {
      "cell_type": "code",
      "source": [
        "# 필요한 컬럼만 선택\n",
        "df_oecd_1 = df_oecd[['TIME_PERIOD', 'REF_AREA', 'VALUE']]\n",
        "\n",
        "# REF_AREA를 구분자로 사용하여 long 타입으로 reshape\n",
        "df_oecd_long = df_oecd_1.pivot(index='TIME_PERIOD', columns='REF_AREA', values='VALUE').reset_index()\n",
        "\n",
        "# 날짜 구조를 통계청과 일원화\n",
        "df_oecd_long['TIME_PERIOD'] = df_oecd_long['TIME_PERIOD'].str.replace('-', '')\n",
        "\n",
        "df_oecd_long = df_oecd_long[['TIME_PERIOD', 'KOR', 'OECD']]\n",
        "\n",
        "df_oecd_long.head()\n"
      ],
      "metadata": {
        "id": "NUzE1w9Ahxxq"
      },
      "execution_count": null,
      "outputs": []
    },
    {
      "cell_type": "markdown",
      "source": [
        "### 경제지표 간 그래프를 이용한 비교\n",
        "#### 실업률과 경기 선행, 후행, 동행\n",
        "\n",
        "- 두 데이터 프레임을 병합"
      ],
      "metadata": {
        "id": "MCdMxCWCpJ0l"
      }
    },
    {
      "cell_type": "code",
      "source": [
        "merged_df = pd.merge(df_kosis, df_oecd_long, left_on='PRD_DE', right_on='TIME_PERIOD', how='inner')\n",
        "merged_df = merged_df.drop(columns=['TIME_PERIOD'])\n",
        "merged_df.head()"
      ],
      "metadata": {
        "id": "kbzVtNNxh_Ok"
      },
      "execution_count": null,
      "outputs": []
    },
    {
      "cell_type": "code",
      "source": [
        "merged_df.describe()"
      ],
      "metadata": {
        "id": "QvMYhZzzxZL8"
      },
      "execution_count": null,
      "outputs": []
    },
    {
      "cell_type": "code",
      "source": [
        "# 문자열을 숫자로 변환\n",
        "merged_df['Coincident_Index'] = pd.to_numeric(merged_df['Coincident_Index'], errors='coerce')\n",
        "merged_df['Lagging_Index'] = pd.to_numeric(merged_df['Lagging_Index'], errors='coerce')\n",
        "merged_df['Leading_Index'] = pd.to_numeric(merged_df['Leading_Index'], errors='coerce')\n",
        "\n",
        "merged_df.describe()"
      ],
      "metadata": {
        "id": "Ky41uma4xQF2"
      },
      "execution_count": null,
      "outputs": []
    },
    {
      "cell_type": "markdown",
      "source": [
        "## 선행, 후행, 동행지표와 실업률 - 스캐터그램"
      ],
      "metadata": {
        "id": "3z2G9DZlsuOG"
      }
    },
    {
      "cell_type": "code",
      "source": [
        "import pandas as pd\n",
        "import seaborn as sns\n",
        "import matplotlib.pyplot as plt\n",
        "\n",
        "# 그래프 그리기\n",
        "fig, axes = plt.subplots(1, 3, figsize=(18, 6))\n",
        "\n",
        "# Coincident_Index vs KOR\n",
        "sns.scatterplot(x='Coincident_Index', y='KOR', data=merged_df, ax=axes[0])\n",
        "axes[0].set_title('Coincident_Index vs KOR')\n",
        "\n",
        "# Lagging_Index vs KOR\n",
        "sns.scatterplot(x='Lagging_Index', y='KOR', data=merged_df, ax=axes[1])\n",
        "axes[1].set_title('Lagging_Index vs KOR')\n",
        "\n",
        "# Leading_Index vs KOR\n",
        "sns.scatterplot(x='Leading_Index', y='KOR', data=merged_df, ax=axes[2])\n",
        "axes[2].set_title('Leading_Index vs KOR')\n",
        "\n",
        "# 레이아웃 조정\n",
        "plt.tight_layout()\n",
        "plt.show()"
      ],
      "metadata": {
        "id": "otBqDiYexBNL"
      },
      "execution_count": null,
      "outputs": []
    },
    {
      "cell_type": "markdown",
      "source": [
        "## 선행, 후행, 동행지표와 실업률 - 선형그래프(1)"
      ],
      "metadata": {
        "id": "bjPofL4K8r_u"
      }
    },
    {
      "cell_type": "code",
      "source": [
        "# PRD_DE 변수를 날짜 형식으로 변환\n",
        "merged_df['PRD_DE'] = pd.to_datetime(merged_df['PRD_DE'], format='%Y%m')\n",
        "\n",
        "# 그래프 그리기\n",
        "fig, axes = plt.subplots(1, 3, figsize=(18, 6))\n",
        "\n",
        "# Coincident_Index vs KOR\n",
        "ax1 = axes[0]\n",
        "ax2 = ax1.twinx()\n",
        "sns.lineplot(x='PRD_DE', y='Coincident_Index', data=merged_df, ax=ax1, color='b')\n",
        "sns.lineplot(x='PRD_DE', y='KOR', data=merged_df, ax=ax2, color='r')\n",
        "ax1.set_title('Coincident_Index vs KOR')\n",
        "ax1.set_ylabel('Coincident_Index')\n",
        "ax2.set_ylabel('KOR')\n",
        "\n",
        "# Lagging_Index vs KOR\n",
        "ax3 = axes[1]\n",
        "ax4 = ax3.twinx()\n",
        "sns.lineplot(x='PRD_DE', y='Lagging_Index', data=merged_df, ax=ax3, color='b')\n",
        "sns.lineplot(x='PRD_DE', y='KOR', data=merged_df, ax=ax4, color='r')\n",
        "ax3.set_title('Lagging_Index vs KOR')\n",
        "ax3.set_ylabel('Lagging_Index')\n",
        "ax4.set_ylabel('KOR')\n",
        "\n",
        "# Leading_Index vs KOR\n",
        "ax5 = axes[2]\n",
        "ax6 = ax5.twinx()\n",
        "sns.lineplot(x='PRD_DE', y='Leading_Index', data=merged_df, ax=ax5, color='b')\n",
        "sns.lineplot(x='PRD_DE', y='KOR', data=merged_df, ax=ax6, color='r')\n",
        "ax5.set_title('Leading_Index vs KOR')\n",
        "ax5.set_ylabel('Leading_Index')\n",
        "ax6.set_ylabel('KOR')\n",
        "\n",
        "# 레이아웃 조정\n",
        "plt.tight_layout()\n",
        "plt.show()"
      ],
      "metadata": {
        "id": "84aJtS_AyLi9"
      },
      "execution_count": null,
      "outputs": []
    },
    {
      "cell_type": "code",
      "source": [
        "# 전월대비 변동률 계산 함수\n",
        "def calc_monthly_change(df, column):\n",
        "    df[f'{column}_MoM'] = df[column].pct_change() * 100\n",
        "\n",
        "# 변동률 계산\n",
        "calc_monthly_change(merged_df, 'Coincident_Index')\n",
        "calc_monthly_change(merged_df, 'Lagging_Index')\n",
        "calc_monthly_change(merged_df, 'Leading_Index')\n",
        "\n",
        "# 그래프 그리기\n",
        "fig, axes = plt.subplots(1, 3, figsize=(18, 6))\n",
        "\n",
        "# Coincident_Index_MoM vs KOR\n",
        "ax1 = axes[0]\n",
        "ax2 = ax1.twinx()\n",
        "sns.lineplot(x='PRD_DE', y='Coincident_Index_MoM', data=merged_df, ax=ax1, color='b')\n",
        "sns.lineplot(x='PRD_DE', y='KOR', data=merged_df, ax=ax2, color='r')\n",
        "ax1.set_title('Coincident_Index MoM vs KOR')\n",
        "ax1.set_ylabel('Coincident_Index MoM (%)')\n",
        "ax2.set_ylabel('KOR')\n",
        "\n",
        "# Lagging_Index_MoM vs KOR\n",
        "ax3 = axes[1]\n",
        "ax4 = ax3.twinx()\n",
        "sns.lineplot(x='PRD_DE', y='Lagging_Index_MoM', data=merged_df, ax=ax3, color='b')\n",
        "sns.lineplot(x='PRD_DE', y='KOR', data=merged_df, ax=ax4, color='r')\n",
        "ax3.set_title('Lagging_Index MoM vs KOR')\n",
        "ax3.set_ylabel('Lagging_Index MoM (%)')\n",
        "ax4.set_ylabel('KOR')\n",
        "\n",
        "# Leading_Index_MoM vs KOR\n",
        "ax5 = axes[2]\n",
        "ax6 = ax5.twinx()\n",
        "sns.lineplot(x='PRD_DE', y='Leading_Index_MoM', data=merged_df, ax=ax5, color='b')\n",
        "sns.lineplot(x='PRD_DE', y='KOR', data=merged_df, ax=ax6, color='r')\n",
        "ax5.set_title('Leading_Index MoM vs KOR')\n",
        "ax5.set_ylabel('Leading_Index MoM (%)')\n",
        "ax6.set_ylabel('KOR')\n",
        "\n",
        "# 레이아웃 조정\n",
        "plt.tight_layout()\n",
        "plt.show()"
      ],
      "metadata": {
        "id": "d-loZCX4yWN6"
      },
      "execution_count": null,
      "outputs": []
    },
    {
      "cell_type": "markdown",
      "source": [
        "## 산업생산지수와 실업률"
      ],
      "metadata": {
        "id": "IebPA3DpqZdx"
      }
    },
    {
      "cell_type": "code",
      "source": [
        "import requests\n",
        "import pandas as pd\n",
        "\n",
        "# URL of the API\n",
        "url = \"https://kosis.kr/openapi/Param/statisticsParameterData.do?method=getList&apiKey=ZDE3ZTViNDMwNGJmZDU4YzgyMjE2Nzk2ZTIyNjcwMGY=&itmId=T1+&objL1=ALL&objL2=&objL3=&objL4=&objL5=&objL6=&objL7=&objL8=&format=json&jsonVD=Y&prdSe=M&newEstPrdCnt=60&outputFields=NM_ENG+PRD_DE+&orgId=101&tblId=DT_1JH20202\"\n",
        "\n",
        "# Call the API\n",
        "response = requests.get(url)\n",
        "data = response.json()\n",
        "\n",
        "# Convert JSON response to DataFrame\n",
        "df = pd.DataFrame(data)\n",
        "\n",
        "# 1. 날짜 형식 변환\n",
        "df['PRD_DE'] = pd.to_datetime(df['PRD_DE'].astype(str) + '01', format='%Y%m%d')\n",
        "\n",
        "# 'DT' 열을 숫자형으로 변환\n",
        "df['DT'] = pd.to_numeric(df['DT'])\n",
        "\n",
        "# 2. 전년동월대비 증감률 계산\n",
        "df['Previous_Year'] = df['PRD_DE'] - pd.DateOffset(years=1)\n",
        "df = df.merge(df[['PRD_DE', 'C1_NM_ENG', 'DT']].rename(columns={'PRD_DE': 'Previous_Year', 'DT': 'Previous_DT'}),\n",
        "              on=['Previous_Year', 'C1_NM_ENG'], how='left')\n",
        "df['YoY_Change'] = (df['DT'] - df['Previous_DT']) / df['Previous_DT'] * 100\n",
        "\n",
        "# 3. 3개월 이동평균 계산\n",
        "df['YoY_Change_MA'] = df.groupby('C1_NM_ENG')['YoY_Change'].transform(lambda x: x.rolling(window=3).mean())\n",
        "\n",
        "# 필요한 열만 선택하여 정리\n",
        "result = df[['PRD_DE', 'C1_NM_ENG', 'DT', 'YoY_Change', 'YoY_Change_MA']]\n",
        "\n",
        "result.tail()"
      ],
      "metadata": {
        "id": "Dc3aTHSgqdvB"
      },
      "execution_count": null,
      "outputs": []
    },
    {
      "cell_type": "code",
      "source": [
        "# 그래프 그리기\n",
        "plt.figure(figsize=(12, 6))\n",
        "\n",
        "for c1_nm_eng in result['C1_NM_ENG'].unique():\n",
        "    subset = result[result['C1_NM_ENG'] == c1_nm_eng]\n",
        "    plt.plot(subset['PRD_DE'], subset['YoY_Change_MA'], marker='o', label=c1_nm_eng)\n",
        "\n",
        "# 특정 구간 배경 색 설정\n",
        "plt.axvspan(pd.to_datetime('2023-07-01'), pd.to_datetime('2024-06-30'), color='yellow', alpha=0.3)\n",
        "\n",
        "plt.xlabel('Date')\n",
        "plt.ylabel('YoY Change MA (%)')\n",
        "plt.title('YoY Change 3-Month Moving Average by C1_NM_ENG')\n",
        "plt.legend()\n",
        "plt.grid(True)\n",
        "plt.xticks(rotation=45)\n",
        "plt.tight_layout()\n",
        "\n",
        "# 그래프 보여주기\n",
        "plt.show()"
      ],
      "metadata": {
        "id": "ygJhm2G_vPnE"
      },
      "execution_count": null,
      "outputs": []
    },
    {
      "cell_type": "markdown",
      "source": [
        "### 최근 1년만 그리기"
      ],
      "metadata": {
        "id": "za958DSqwasD"
      }
    },
    {
      "cell_type": "code",
      "source": [
        "# 특정 기간 필터링 (2023년 7월 1일부터 2024년 6월 30일까지)\n",
        "start_date = pd.to_datetime('2023-06-01')\n",
        "end_date = pd.to_datetime('2024-05-01')\n",
        "filtered_result = result[(result['PRD_DE'] >= start_date) & (result['PRD_DE'] <= end_date)]\n",
        "\n",
        "# 그래프 그리기\n",
        "plt.figure(figsize=(12, 6))\n",
        "\n",
        "for c1_nm_eng in filtered_result['C1_NM_ENG'].unique():\n",
        "    subset = filtered_result[filtered_result['C1_NM_ENG'] == c1_nm_eng]\n",
        "    plt.plot(subset['PRD_DE'], subset['YoY_Change_MA'], marker='o', label=c1_nm_eng)\n",
        "\n",
        "# 특정 구간 배경 색 설정\n",
        "plt.axvspan(pd.to_datetime('2024-01-01'), pd.to_datetime('2024-05-01'), color='yellow', alpha=0.3)\n",
        "\n",
        "plt.xlabel('Date')\n",
        "plt.ylabel('YoY Change MA (%)')\n",
        "plt.title('YoY Change 3-Month Moving Average by C1_NM_ENG')\n",
        "plt.legend()  # 범례 표시\n",
        "plt.grid(True)\n",
        "plt.xticks(rotation=45)\n",
        "plt.tight_layout()\n",
        "\n",
        "# 그래프 보여주기\n",
        "plt.show()"
      ],
      "metadata": {
        "id": "sHHLlJkswaI8"
      },
      "execution_count": null,
      "outputs": []
    },
    {
      "cell_type": "markdown",
      "source": [
        "- 광공업 생산은 2023년 하반기 이후 회복되는 모습을 보였으며, 4월 이후 회복세가 다소 둔화되는 모습을 나타냄\n",
        "- 건설업은 2024년 12월까지 생산이 둔화되는 모습을 보이다 2024년 초 다소 회복되는 모습을 보이다 2024년 3월 이후 하락세를 나타냄"
      ],
      "metadata": {
        "id": "HLqyGnwnx1hQ"
      }
    },
    {
      "cell_type": "markdown",
      "source": [
        "## 텍스트 마이닝을 이용한 경제지표 개발 사례 - 뉴스심리지수"
      ],
      "metadata": {
        "id": "HL_jKmtS82WU"
      }
    },
    {
      "cell_type": "markdown",
      "source": [
        "[기계학습을 이용한 뉴스심리지수(NSI)의 작성과 활용](https://www.bok.or.kr/portal/bbs/B0000233/view.do?nttId=10070681&menuNo=200707)\n",
        "\n",
        "한국은행 경제통계국은 경제분야 뉴스기사에 나타나는 경제심리를 지수화한 뉴스 심리지수(NSI, News Sentiment Index)를 개발하여 2022년 2월부터 매주 한국은행 경제 통계시스템(ECOS)에 실험적 통계로 공개하고 있다. 뉴스심리지수는 인터넷 포털사이 트의 경제기사 텍스트를 웹크롤링 기법으로 수집하고 이를 최신 자연어 처리(NLP, Natural Language Processing) 모형으로 분석하여 작성한다.(서범석 외, 2022)\n"
      ],
      "metadata": {
        "id": "sd38tYCP9vXK"
      }
    },
    {
      "cell_type": "markdown",
      "source": [
        "## 필립스 곡선"
      ],
      "metadata": {
        "id": "7ypfU6-RGWIk"
      }
    },
    {
      "cell_type": "code",
      "source": [
        "import requests\n",
        "import pandas as pd\n",
        "\n",
        "# URL of the API\n",
        "url = \"https://kosis.kr/openapi/Param/statisticsParameterData.do?method=getList&apiKey=ZDE3ZTViNDMwNGJmZDU4YzgyMjE2Nzk2ZTIyNjcwMGY=&itmId=T80+&objL1=0+&objL2=&objL3=&objL4=&objL5=&objL6=&objL7=&objL8=&format=json&jsonVD=Y&prdSe=M&newEstPrdCnt=60&outputFields=PRD_DE+&orgId=101&tblId=DT_1DA7001S\"\n",
        "\n",
        "# Call the API\n",
        "response = requests.get(url)\n",
        "data = response.json()\n",
        "\n",
        "# Convert JSON response to DataFrame\n",
        "unemployment = pd.DataFrame(data)\n",
        "\n",
        "# 컬럼 이름 변경\n",
        "unemployment = unemployment.rename(columns={'DT': 'unemployment'})\n",
        "\n",
        "unemployment.head()"
      ],
      "metadata": {
        "id": "8MFsWRBBGfns"
      },
      "execution_count": null,
      "outputs": []
    },
    {
      "cell_type": "code",
      "source": [
        "import requests\n",
        "import pandas as pd\n",
        "\n",
        "# URL of the API\n",
        "url = \"https://kosis.kr/openapi/Param/statisticsParameterData.do?method=getList&apiKey=ZDE3ZTViNDMwNGJmZDU4YzgyMjE2Nzk2ZTIyNjcwMGY=&itmId=T02+&objL1=0+&objL2=&objL3=&objL4=&objL5=&objL6=&objL7=&objL8=&format=json&jsonVD=Y&prdSe=M&newEstPrdCnt=60&outputFields=PRD_DE+&orgId=101&tblId=DT_1J22042\"\n",
        "\n",
        "# Call the API\n",
        "response = requests.get(url)\n",
        "data = response.json()\n",
        "\n",
        "# Convert JSON response to DataFrame\n",
        "cpi = pd.DataFrame(data)\n",
        "\n",
        "# 컬럼 이름 변경\n",
        "cpi = cpi.rename(columns={'DT': 'cpi'})\n",
        "\n",
        "cpi.head()"
      ],
      "metadata": {
        "id": "7HvTGfdeGnIN"
      },
      "execution_count": null,
      "outputs": []
    },
    {
      "cell_type": "code",
      "source": [
        "philips = pd.merge(unemployment, cpi, left_on='PRD_DE', right_on='PRD_DE', how='inner')\n",
        "philips.head()"
      ],
      "metadata": {
        "id": "GfCNMbqYIQdM"
      },
      "execution_count": null,
      "outputs": []
    },
    {
      "cell_type": "code",
      "source": [
        "import pandas as pd\n",
        "import seaborn as sns\n",
        "import matplotlib.pyplot as plt\n",
        "\n",
        "# 그래프 그리기\n",
        "fig, axes = plt.subplots(1, 1, figsize=(6, 6))\n",
        "\n",
        "# Coincident_Index vs KOR\n",
        "sns.scatterplot(x='cpi', y='unemployment', data=philips, ax=axes)\n",
        "axes.set_title('Philips Cuvre')\n",
        "\n",
        "# 레이아웃 조정\n",
        "plt.tight_layout()\n",
        "plt.show()"
      ],
      "metadata": {
        "id": "JB7-axqaIbV5"
      },
      "execution_count": null,
      "outputs": []
    },
    {
      "cell_type": "code",
      "source": [
        "print(philips.dtypes)"
      ],
      "metadata": {
        "id": "LDS5WTpqJtGk"
      },
      "execution_count": null,
      "outputs": []
    },
    {
      "cell_type": "code",
      "source": [
        "# PRD_DE를 int 형식으로 변환\n",
        "philips['PRD_DE'] = philips['PRD_DE'].astype(int)\n",
        "\n",
        "# 특정 날짜 구간 선택 (201907보다 크거나 같고 202107보다 작거나 같은 경우)\n",
        "mask = (philips['PRD_DE'] >= 201907) & (philips['PRD_DE'] <= 202107)\n",
        "filtered_philips = philips[mask]\n",
        "\n",
        "# 그래프 그리기\n",
        "fig, ax = plt.subplots(figsize=(6, 6))\n",
        "\n",
        "# 필터링된 데이터로 스캐터 플롯 그리기\n",
        "sns.scatterplot(x='cpi', y='unemployment', data=filtered_philips, ax=ax)\n",
        "ax.set_title('Philips Curve')\n",
        "\n",
        "# 레이아웃 조정\n",
        "plt.tight_layout()\n",
        "plt.show()"
      ],
      "metadata": {
        "id": "7Jr2Zh29IotB"
      },
      "execution_count": null,
      "outputs": []
    },
    {
      "cell_type": "code",
      "source": [
        "# PRD_DE를 int 형식으로 변환\n",
        "philips['PRD_DE'] = philips['PRD_DE'].astype(int)\n",
        "\n",
        "# 특정 날짜 구간 선택\n",
        "mask = (philips['PRD_DE'] >= 202201) & (philips['PRD_DE'] <= 202412)\n",
        "filtered_philips = philips[mask]\n",
        "\n",
        "# 그래프 그리기\n",
        "fig, ax = plt.subplots(figsize=(6, 6))\n",
        "\n",
        "# 필터링된 데이터로 스캐터 플롯 그리기\n",
        "sns.scatterplot(x='cpi', y='unemployment', data=filtered_philips, ax=ax)\n",
        "ax.set_title('Philips Curve')\n",
        "\n",
        "# 레이아웃 조정\n",
        "plt.tight_layout()\n",
        "plt.show()"
      ],
      "metadata": {
        "id": "up-koO5OJ1u9"
      },
      "execution_count": null,
      "outputs": []
    },
    {
      "cell_type": "markdown",
      "source": [
        "- 종사자규모별 취업자 수(전년동기대비 변화)를 Open API를 활용해 최근 3년간 자료를 분석하시오"
      ],
      "metadata": {
        "id": "FeHGY9RbJC2O"
      }
    },
    {
      "cell_type": "code",
      "source": [
        "import requests\n",
        "import pandas as pd\n",
        "\n",
        "# URL of the API\n",
        "url = \"https://kosis.kr/openapi/Param/statisticsParameterData.do?method=getList&apiKey=ZDE3ZTViNDMwNGJmZDU4YzgyMjE2Nzk2ZTIyNjcwMGY=&itmId=T30+&objL1=10+15+65+&objL2=&objL3=&objL4=&objL5=&objL6=&objL7=&objL8=&format=json&jsonVD=Y&prdSe=M&newEstPrdCnt=36&outputFields=NM_ENG+PRD_DE+&orgId=101&tblId=DT_1DA7A64S\"\n",
        "\n",
        "# Call the API\n",
        "response = requests.get(url)\n",
        "data = response.json()\n",
        "\n",
        "# Convert JSON response to DataFrame\n",
        "employment = pd.DataFrame(data)\n",
        "\n",
        "employment.head()"
      ],
      "metadata": {
        "id": "Lul8LIQDKkoU"
      },
      "execution_count": null,
      "outputs": []
    },
    {
      "cell_type": "code",
      "source": [
        "import pandas as pd\n",
        "import matplotlib.pyplot as plt\n",
        "import seaborn as sns\n",
        "import matplotlib.dates as mdates\n",
        "\n",
        "# Assuming you have a DataFrame named 'employment' with columns 'DT', 'PRD_DE', and 'C1_NM_ENG'\n",
        "# employment = pd.read_csv('your_dataframe.csv')\n",
        "\n",
        "# Convert 'PRD_DE' to datetime format\n",
        "employment['PRD_DE'] = pd.to_datetime(employment['PRD_DE'], format='%Y%m')\n",
        "\n",
        "# Ensure 'DT' is numeric\n",
        "employment['DT'] = pd.to_numeric(employment['DT'], errors='coerce')\n",
        "\n",
        "# Sort the dataframe by 'C1_NM_ENG' and 'PRD_DE'\n",
        "employment = employment.sort_values(by=['C1_NM_ENG', 'PRD_DE'])\n",
        "\n",
        "# Calculate year-over-year change\n",
        "employment['YoY_Change'] = employment.groupby('C1_NM_ENG')['DT'].pct_change(periods=12) * 100\n",
        "\n",
        "# Drop rows with NaN values which are the first year for each C1_NM_ENG\n",
        "employment = employment.dropna(subset=['YoY_Change'])\n",
        "\n",
        "# Create the seaborn lineplot\n",
        "plt.figure(figsize=(14, 8))\n",
        "sns.lineplot(data=employment, x='PRD_DE', y='YoY_Change', hue='C1_NM_ENG', marker='o')\n",
        "\n",
        "# Customize the plot\n",
        "plt.title('Year-over-Year Change by C1_NM_ENG')\n",
        "plt.xlabel('Date')\n",
        "plt.ylabel('Year-over-Year Change (%)')\n",
        "plt.legend(title='C1_NM_ENG')\n",
        "plt.grid(True)\n",
        "\n",
        "# Set x-axis major locator to month and formatter to show year and month\n",
        "ax = plt.gca()\n",
        "ax.xaxis.set_major_locator(mdates.MonthLocator())\n",
        "ax.xaxis.set_major_formatter(mdates.DateFormatter('%Y-%m'))\n",
        "\n",
        "# Rotate x-axis labels for better readability\n",
        "plt.xticks(rotation=45)\n",
        "\n",
        "# Show the plot\n",
        "plt.show()\n"
      ],
      "metadata": {
        "id": "Ds6usqRkJR5x"
      },
      "execution_count": null,
      "outputs": []
    },
    {
      "cell_type": "code",
      "source": [
        "import pandas as pd\n",
        "import matplotlib.pyplot as plt\n",
        "import seaborn as sns\n",
        "import matplotlib.dates as mdates\n",
        "\n",
        "# Assuming you have a DataFrame named 'employment' with columns 'DT', 'PRD_DE', and 'C1_NM_ENG'\n",
        "# employment = pd.read_csv('your_dataframe.csv')\n",
        "\n",
        "# Convert 'PRD_DE' to datetime format\n",
        "employment['PRD_DE'] = pd.to_datetime(employment['PRD_DE'], format='%Y%m')\n",
        "\n",
        "# Ensure 'DT' is numeric\n",
        "employment['DT'] = pd.to_numeric(employment['DT'], errors='coerce')\n",
        "\n",
        "# Sort the dataframe by 'C1_NM_ENG' and 'PRD_DE'\n",
        "employment = employment.sort_values(by=['C1_NM_ENG', 'PRD_DE'])\n",
        "\n",
        "# Calculate year-over-year change in value\n",
        "employment['YoY_Change'] = employment.groupby('C1_NM_ENG')['DT'].diff(periods=12)\n",
        "\n",
        "# Drop rows with NaN values which are the first year for each C1_NM_ENG\n",
        "employment = employment.dropna(subset=['YoY_Change'])\n",
        "\n",
        "# Create the seaborn lineplot\n",
        "plt.figure(figsize=(14, 8))\n",
        "sns.lineplot(data=employment, x='PRD_DE', y='YoY_Change', hue='C1_NM_ENG', marker='o')\n",
        "\n",
        "# Customize the plot\n",
        "plt.title('Year-over-Year Change by C1_NM_ENG')\n",
        "plt.xlabel('Date')\n",
        "plt.ylabel('Year-over-Year Change')\n",
        "plt.legend(title='C1_NM_ENG')\n",
        "plt.grid(True)\n",
        "\n",
        "# Set x-axis major locator to month and formatter to show year and month\n",
        "ax = plt.gca()\n",
        "ax.xaxis.set_major_locator(mdates.MonthLocator())\n",
        "ax.xaxis.set_major_formatter(mdates.DateFormatter('%Y-%m'))\n",
        "\n",
        "# Rotate x-axis labels for better readability\n",
        "plt.xticks(rotation=45)\n",
        "\n",
        "# Show the plot\n",
        "plt.show()"
      ],
      "metadata": {
        "id": "CELlYMkaLMCw"
      },
      "execution_count": null,
      "outputs": []
    },
    {
      "cell_type": "code",
      "source": [],
      "metadata": {
        "id": "1I5I6jTISeg2"
      },
      "execution_count": null,
      "outputs": []
    }
  ]
}