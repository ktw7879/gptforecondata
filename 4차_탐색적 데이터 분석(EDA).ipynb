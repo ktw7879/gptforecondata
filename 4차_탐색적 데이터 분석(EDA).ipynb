{
  "cells": [
    {
      "cell_type": "markdown",
      "metadata": {
        "id": "dm0xqrUMHjHF"
      },
      "source": [
        "# 4장 파이썬을 이용한 탐색적 데이터 분석(EDA, Exploratory Data Analysis)\n",
        " - [질문1]: 파이썬을 이용한 탐색적 데이터 분석(EDA, Exploratory Data Analysis)을 한다면 어떠한 순서로 하면 좋을까?\n",
        "    - [질문2]: 이 내용에 따른 강의안을 제시해줘\n",
        "        - [질문3] : ipynb 파일로 만들어줘"
      ]
    },
    {
      "cell_type": "markdown",
      "metadata": {
        "id": "ZN36NSysHjHG"
      },
      "source": [
        "-----\n",
        "## 1. 데이터 수집 및 로드\n",
        "- 데이터를 CSV, Excel, SQL 데이터베이스 등에서 불러옵니다.\n",
        "- 예: `pandas` 라이브러리를 사용하여 데이터를 로드합니다.\n",
        "\n",
        "## 2. 데이터 구조 확인\n",
        "- 데이터프레임의 첫 몇 행을 출력하여 데이터의 구조를 파악합니다.\n",
        "- 데이터의 열 이름, 데이터 타입, 결측치 등의 정보를 확인합니다.\n",
        "\n",
        "## 3. 데이터 정리 및 전처리\n",
        "- 결측치 처리 (제거, 대체 등)\n",
        "- 중복 데이터 제거\n",
        "- 데이터 타입 변환 (예: 문자열을 날짜 형식으로 변환)\n",
        "- 필요 없는 열 삭제\n",
        "\n",
        "## 4. 기술 통계 확인\n",
        "- 각 열에 대한 기술 통계를 확인하여 데이터의 분포를 파악합니다.\n",
        "- 히스토그램, 박스플롯 등을 사용하여 데이터 분포를 시각화합니다.\n",
        "\n",
        "## 5. 데이터 시각화\n",
        "- 데이터 간의 관계를 시각적으로 탐색합니다.\n",
        "\n",
        "## 6. 특성 엔지니어링\n",
        "- 기존 데이터에서 새로운 특성(피처)를 생성합니다.\n",
        "    - 예: 날짜에서 연도, 월, 일 추출, 범주형 데이터의 인코딩 등\n",
        "-----"
      ]
    },
    {
      "cell_type": "markdown",
      "metadata": {
        "id": "hWzF0A9JHjHH"
      },
      "source": [
        "# 1. 데이터 수집 및 로드\n",
        "- 데이터셋을 로드합니다(예: pandas의 read_csv() 함수).\n",
        "- 데이터의 구조를 파악합니다(예: head(), info(), describe() 메서드).\n",
        "- 데이터의 크기(행과 열의 수), 변수의 타입, 결측치 등을 확인합니다.\n",
        "-----"
      ]
    },
    {
      "cell_type": "markdown",
      "metadata": {
        "id": "LPPrc0lZHjHH"
      },
      "source": [
        "## 가. 다양한 형태의 데이터 불러오기\n",
        "\n",
        "1. csv 파일\n",
        "```python\n",
        "# CSV 파일 경로\n",
        "csv_file_path = 'gdp_corruption.csv'\n",
        "# CSV 파일 불러오기 (구분자 지정, 주석 줄 무시)\n",
        "df_csv = pd.read_csv(csv_file_path, delimiter=';', skiprows=3)\n",
        "```\n",
        "\n",
        "2. Excel 파일\n",
        "```python\n",
        "# CSV 파일 불러오기 (구분자 지정, 주석 줄 무시)\n",
        "df_excel = pd.read_excel('엑셀파일명.xlsx', sheet_name='Sheet1', skiprows=5)\n",
        "```\n",
        "\n",
        "3. Stata 파일\n",
        "```python\n",
        "# CSV 파일 불러오기 (구분자 지정, 주석 줄 무시)\n",
        "df_dta = pd.read_stata('데이터.dta')\n",
        "```\n",
        "\n",
        "4. fixed format 불러오기\n",
        "- 제공된 format 정보를 ChatGPT에 입력하면 코드를 제공해줌\n",
        "```python\n",
        "import pandas as pd\n",
        "# 고정 형식 텍스트 파일 경로\n",
        "fixed_width_file_path = 'path_to_your_file.txt'\n",
        "# colspecs를 이용해 각 열의 너비를 지정합니다.\n",
        "colspecs = [(0, 10), (10, 20), (20, 30)]  # 예시로 첫 열은 0-10, 두번째 열은 10-20, 세번째 열은 20-30\n",
        "# 사용자 지정 열 이름 지정\n",
        "column_names = ['Column1', 'Column2', 'Column3']\n",
        "# 고정 형식 텍스트 파일 불러오기\n",
        "df_fwf = pd.read_fwf(fixed_width_file_path, colspecs=colspecs, names=column_names)\n",
        "print(df_fwf.head())\n",
        "```\n",
        "\n",
        "5. 기타 형식\n",
        " - ChatGPT에 해당 형식을 Dataframe으로 불러오는 방법을 질문\n",
        "    - 예) Spss 파일을 Dataframe으로 불러오는 코드를 제시해줘"
      ]
    },
    {
      "cell_type": "code",
      "execution_count": null,
      "metadata": {
        "colab": {
          "base_uri": "https://localhost:8080/"
        },
        "id": "A0PQYaWtJOlG",
        "outputId": "388d122d-e87e-4960-c8db-4245c0fedbef"
      },
      "outputs": [],
      "source": [
        "#압축 풀기\n",
        "!unzip 4_EDA.zip"
      ]
    },
    {
      "cell_type": "markdown",
      "metadata": {
        "id": "brxisHnRHjHH"
      },
      "source": [
        "### 1) CSV 불러오기"
      ]
    },
    {
      "cell_type": "code",
      "execution_count": null,
      "metadata": {
        "id": "-2-jGY4THjHH"
      },
      "outputs": [],
      "source": [
        "# 데이터 불러오기\n",
        "import pandas as pd\n",
        "\n",
        "df = pd.read_csv('data/gdp.csv')"
      ]
    },
    {
      "cell_type": "code",
      "execution_count": null,
      "metadata": {
        "id": "NXMolNydHjHI"
      },
      "outputs": [],
      "source": [
        "## 경로를 변수에 입력\n",
        "csv_file_path = 'data/gdp.csv'\n",
        "df = pd.read_csv(csv_file_path)"
      ]
    },
    {
      "cell_type": "markdown",
      "metadata": {
        "id": "uYJIIqAfHjHI"
      },
      "source": [
        "# 2. 데이터 이해하기\n",
        "## 가. 불러온 데이터 확인"
      ]
    },
    {
      "cell_type": "code",
      "execution_count": null,
      "metadata": {
        "colab": {
          "base_uri": "https://localhost:8080/"
        },
        "id": "WqOv-vx2HjHI",
        "outputId": "ed05ec2c-6c51-400c-ed68-2c28826cfa76"
      },
      "outputs": [],
      "source": [
        "# 데이터가 잘 불러져 왔는지 반드시 확인\n",
        "##첫 5개 행을 출력\n",
        "print(df.head())"
      ]
    },
    {
      "cell_type": "code",
      "execution_count": null,
      "metadata": {
        "colab": {
          "base_uri": "https://localhost:8080/",
          "height": 363
        },
        "id": "SIraUKijHjHJ",
        "outputId": "2a4f4d4f-ba0b-4b24-c1a6-892f2bdf7a8a"
      },
      "outputs": [],
      "source": [
        "#첫 n개 행을 출력\n",
        "df.head(10)"
      ]
    },
    {
      "cell_type": "code",
      "execution_count": null,
      "metadata": {
        "colab": {
          "base_uri": "https://localhost:8080/",
          "height": 206
        },
        "id": "khybBmdOHjHJ",
        "outputId": "9506fc9e-017f-4636-ff19-ec46ae176355"
      },
      "outputs": [],
      "source": [
        "#마지막 5개 행을 출력\n",
        "df.tail()"
      ]
    },
    {
      "cell_type": "markdown",
      "metadata": {
        "id": "T-ssKeeeHjHJ"
      },
      "source": [
        "- `print(df.head())`와 `df.head()`의 차이 : `print(df.head())`는 출력 방식이 `print` 함수의 규칙을 따르고, `df.head()`는 `pandas`의 출력 규칙을 따름"
      ]
    },
    {
      "cell_type": "markdown",
      "metadata": {
        "id": "ddqhCJYoHjHJ"
      },
      "source": [
        "- `head()`와 `tail()`에 음수(-n)을 넣으면 n개를 제외하고 출력"
      ]
    },
    {
      "cell_type": "code",
      "execution_count": null,
      "metadata": {
        "colab": {
          "base_uri": "https://localhost:8080/",
          "height": 424
        },
        "id": "gPrO3C36HjHK",
        "outputId": "85bedace-f831-4c6e-d1f9-0cc451cb8b5d"
      },
      "outputs": [],
      "source": [
        "df.head(-5)"
      ]
    },
    {
      "cell_type": "markdown",
      "metadata": {
        "id": "lG1ukpkEHjHK"
      },
      "source": [
        "## 가. 데이터 구조 파악\n",
        " - 데이터의 열 이름, 데이터 타입, 결측치 등의 정보를 확인"
      ]
    },
    {
      "cell_type": "code",
      "execution_count": null,
      "metadata": {
        "colab": {
          "base_uri": "https://localhost:8080/"
        },
        "id": "vHq6qEcGHjHK",
        "outputId": "5312dbbc-73b8-4470-c703-6f1bdce3abf9"
      },
      "outputs": [],
      "source": [
        "#데이터프레임의 간결한 요약을 제시\n",
        "df.info()"
      ]
    },
    {
      "cell_type": "markdown",
      "metadata": {
        "id": "RG8bzFDfHjHK"
      },
      "source": [
        "- 간단한 기술통계"
      ]
    },
    {
      "cell_type": "code",
      "execution_count": null,
      "metadata": {
        "colab": {
          "base_uri": "https://localhost:8080/",
          "height": 300
        },
        "id": "hvUwmTj4HjHK",
        "outputId": "b12e8504-7f72-4f73-95cc-e715050be06e"
      },
      "outputs": [],
      "source": [
        "df.describe()"
      ]
    },
    {
      "cell_type": "code",
      "execution_count": null,
      "metadata": {
        "colab": {
          "base_uri": "https://localhost:8080/",
          "height": 300
        },
        "id": "1EDUAtRWHjHK",
        "outputId": "791b1e29-48b1-434e-d6c1-9031ea638720"
      },
      "outputs": [],
      "source": [
        "# 기본 출력 대신 지정한 백분위 값을 리턴\n",
        "df.describe(percentiles=[0.1, 0.5, 0.9])"
      ]
    },
    {
      "cell_type": "code",
      "execution_count": null,
      "metadata": {
        "colab": {
          "base_uri": "https://localhost:8080/",
          "height": 394
        },
        "id": "5uf665MwHjHK",
        "outputId": "d70c28a5-92a2-4f31-a8bf-78768b2a5f54"
      },
      "outputs": [],
      "source": [
        "# 모든 데이터 타입 포함\n",
        "df.describe(include='all') # unique 값이 포함되어 유용"
      ]
    },
    {
      "cell_type": "markdown",
      "metadata": {
        "id": "KeXKkSNHHjHL"
      },
      "source": [
        "# 3. Concat / Merge / Join\n",
        "- [질문] : 파이썬 Dataframe의 데이터 연결을 강의한다면?"
      ]
    },
    {
      "cell_type": "markdown",
      "metadata": {
        "id": "lg_oXm_THjHL"
      },
      "source": [
        "## 1) Concat\n",
        "- stata의 append"
      ]
    },
    {
      "cell_type": "code",
      "execution_count": null,
      "metadata": {
        "colab": {
          "base_uri": "https://localhost:8080/"
        },
        "id": "4yBQ2FyrHjHL",
        "outputId": "2a12d6d6-594a-4c1f-fa12-3577537e6a13"
      },
      "outputs": [],
      "source": [
        "# data 폴더에 gdp_1.dta, gdp_2.csv를 불러오기\n",
        "import pandas as pd\n",
        "\n",
        "df1 = pd.read_stata('data/gdp_1.dta')\n",
        "df2 = pd.read_csv('data/gdp_2.csv')\n",
        "\n",
        "print(df1.head())\n",
        "print(df2.head())"
      ]
    },
    {
      "cell_type": "code",
      "execution_count": null,
      "metadata": {
        "colab": {
          "base_uri": "https://localhost:8080/"
        },
        "id": "MtpEjr4vHjHL",
        "outputId": "cede5d95-8950-4979-b080-08b31f33561f"
      },
      "outputs": [],
      "source": [
        "# 두 데이터프레임을 연결\n",
        "df = pd.concat([df1, df2])\n",
        "\n",
        "print(df.head())\n",
        "\n",
        "print(df.tail())"
      ]
    },
    {
      "cell_type": "markdown",
      "metadata": {
        "id": "B3uE2Y7jHjHL"
      },
      "source": [
        "## 나. Merge"
      ]
    },
    {
      "cell_type": "code",
      "execution_count": null,
      "metadata": {
        "colab": {
          "base_uri": "https://localhost:8080/"
        },
        "id": "MZCt2TDsHjHL",
        "outputId": "ba37bc86-3292-4d2f-ed47-d8ebda1ed967"
      },
      "outputs": [],
      "source": [
        "# df3에 gdp_3.csv를 불러오기\n",
        "df3 = pd.read_csv('data/gdp_3.csv')\n",
        "\n",
        "print(df2.head())\n",
        "\n",
        "print(df3.head())"
      ]
    },
    {
      "cell_type": "code",
      "execution_count": null,
      "metadata": {
        "colab": {
          "base_uri": "https://localhost:8080/",
          "height": 363
        },
        "id": "GuO4MtAFHjHM",
        "outputId": "bd46b594-7a18-493d-de3e-ce5a714c7924"
      },
      "outputs": [],
      "source": [
        "# df2와 df3를 merge, key는 Country, Year 변수 2개\n",
        "df_merge = pd.merge(df2, df3, on=['country', 'year'])\n",
        "\n",
        "df_merge.head(10)"
      ]
    },
    {
      "cell_type": "markdown",
      "metadata": {
        "id": "IRzrvyURHjHM"
      },
      "source": [
        "- `STATA`의 keepusing 기능은 없음\n",
        "    - 필요한 변수만 별도 변수로 생성 후 merge"
      ]
    },
    {
      "cell_type": "markdown",
      "metadata": {
        "id": "m8KvQ4YuHjHM"
      },
      "source": [
        "# 3-1. `Pandas`에서 제공하는 `STATA`와의 명령어 비교 설명\n",
        "\n",
        "- https://pandas.pydata.org/docs/getting_started/comparison/comparison_with_stata.html"
      ]
    },
    {
      "cell_type": "markdown",
      "metadata": {
        "id": "rlhOQVYfHjHM"
      },
      "source": [
        "# 4. 결측치 처리\n",
        " - [질문]: dataframe으로 불러온 데이터의 결측치를 처리하려는데, 여러 상황을 가정하고 방법을 알려줘"
      ]
    },
    {
      "cell_type": "markdown",
      "metadata": {
        "id": "KWpZlG4aHjHM"
      },
      "source": [
        "## 가. 결측치 확인"
      ]
    },
    {
      "cell_type": "code",
      "execution_count": null,
      "metadata": {
        "colab": {
          "base_uri": "https://localhost:8080/"
        },
        "id": "62vt3otmHjHM",
        "outputId": "4611db34-a7f2-4574-c677-cf59b6b9b7fd"
      },
      "outputs": [],
      "source": [
        "# 결측치 확인\n",
        "print(df.isnull())  # 결측치 위치를 True/False로 반환\n",
        "print(df.isnull().sum())  # 각 열의 결측치 개수 반환"
      ]
    },
    {
      "cell_type": "markdown",
      "metadata": {
        "id": "QXyLu3pJHjHM"
      },
      "source": [
        "## 나. 결측이 있는 경우를 삭제하는 다양한 경우\n",
        "### 1) 1개라도 결측인 경우 행을 삭제\n",
        "#### 가) 결측을 제거한 변수 생성\n",
        "- [질문]: python dataframe에 저장된 데이터에 결측이 있는 경우 삭제하려면?\n",
        "- 결측을 제거한 후 변수를 생성 혹은 덮어쓰는 방법이 있음"
      ]
    },
    {
      "cell_type": "code",
      "execution_count": null,
      "metadata": {
        "colab": {
          "base_uri": "https://localhost:8080/"
        },
        "id": "BIxhgcXlHjHN",
        "outputId": "9862d9c6-d891-40c5-c24a-6fb599b97087"
      },
      "outputs": [],
      "source": [
        "# 새로운 변수에 결측치가 제거된 데이터 넣기\n",
        "df_dropped = df.dropna()\n",
        "\n",
        "# 아래와 같이 쓰면, 덮어쓰지 않고 보여주고 끝\n",
        "df.dropna()\n",
        "df\n",
        "\n",
        "# 기존 변수와의 비교\n",
        "print(df_dropped.describe())\n",
        "print(df.describe())"
      ]
    },
    {
      "cell_type": "markdown",
      "metadata": {
        "id": "snShMrLnHjHN"
      },
      "source": [
        "#### 나) 기존 변수에 덮어쓰기"
      ]
    },
    {
      "cell_type": "code",
      "execution_count": null,
      "metadata": {
        "colab": {
          "base_uri": "https://localhost:8080/"
        },
        "id": "BxCNbsKxHjHN",
        "outputId": "056cfda7-5364-4ac9-b681-dcfe4e79b8dd"
      },
      "outputs": [],
      "source": [
        "# df와 같은 df2를 생성\n",
        "df2 = df\n",
        "\n",
        "print(df2.describe())"
      ]
    },
    {
      "cell_type": "code",
      "execution_count": null,
      "metadata": {
        "colab": {
          "base_uri": "https://localhost:8080/"
        },
        "id": "z0-qAg-pHjHN",
        "outputId": "879c0d7a-6eb3-44f6-f34b-8d80b6d3d03f"
      },
      "outputs": [],
      "source": [
        "# 새로운 변수에 결측치가 제거된 데이터 넣기\n",
        "df2.dropna(inplace=True) # True로 설정하면 기존 변수에 덮어쓰기\n",
        "\n",
        "print(df2.describe())"
      ]
    },
    {
      "cell_type": "markdown",
      "metadata": {
        "id": "6E3_zaJOHjHN"
      },
      "source": [
        "### 2) 특정 변수가 결측인 경우 삭제"
      ]
    },
    {
      "cell_type": "code",
      "execution_count": null,
      "metadata": {
        "colab": {
          "base_uri": "https://localhost:8080/",
          "height": 315
        },
        "id": "zPg-BQn7HjHN",
        "outputId": "5c89e8a5-dbb3-477b-d42c-6fb3e66efb81"
      },
      "outputs": [],
      "source": [
        "# 특정 열에 결측치가 있는 행 제거\n",
        "df_dropped = df.dropna(subset=['열 이름'])\n",
        "df_dropped.describe()"
      ]
    },
    {
      "cell_type": "code",
      "execution_count": null,
      "metadata": {
        "id": "x50mXjIqHjHO"
      },
      "outputs": [],
      "source": [
        "# 'a' 또는 'b' 열에 결측치가 있는 행 제거\n",
        "#df_dropped = df.dropna(subset=['a', 'b'])\n",
        "df_dropped.describe()"
      ]
    },
    {
      "cell_type": "markdown",
      "metadata": {
        "id": "hLPBmaIcHjHO"
      },
      "source": [
        "### 다. 결측이 '99999'로 기록된 경우"
      ]
    },
    {
      "cell_type": "code",
      "execution_count": null,
      "metadata": {
        "id": "MpVvKuEcHjHO"
      },
      "outputs": [],
      "source": [
        "#data 폴더 안의 ddp_99999.csv를 불러오기\n",
        "df_99999 = pd.read_csv('data/gdp_99999.csv')\n",
        "df_99999.head()"
      ]
    },
    {
      "cell_type": "code",
      "execution_count": null,
      "metadata": {
        "id": "HxJdtoLfHjHO"
      },
      "outputs": [],
      "source": [
        "df_99999.replace(99999, np.nan, inplace=True)\n",
        "df_99999_dropped = df.dropna(subset=['gdp'])\n",
        "df_99999_dropped.dropna(subset=['corruption'], inplace=True)\n",
        "df_99999_dropped.head(10)"
      ]
    },
    {
      "cell_type": "markdown",
      "metadata": {
        "id": "sEbrt-zDHjHO"
      },
      "source": [
        "## 다. 시나리오 - ID를 기준으로 A 변수에 값이 1개라도 결측인 경우 제거\n",
        "- [질문]: 데이터프레임에서 ID 기준으로 A 변수가 1개라도 결측이면 삭제하는 방법을 설명해줘"
      ]
    },
    {
      "cell_type": "code",
      "execution_count": null,
      "metadata": {
        "id": "stk_a0xHHjHP"
      },
      "outputs": [],
      "source": [
        "df = pd.read_stata('data/gdp_1.dta')\n",
        "print(df.describe(include='all'))\n",
        "\n",
        "missing_a = df[df['gdp'].isnull()]['country'].unique()\n",
        "print(missing_a)"
      ]
    },
    {
      "cell_type": "code",
      "execution_count": null,
      "metadata": {
        "id": "Nr8OWDlaHjHP"
      },
      "outputs": [],
      "source": [
        "df_cleaned = df[~df['country'].isin(missing_a)]\n",
        "print(df_cleaned.describe(include='all'))"
      ]
    },
    {
      "cell_type": "markdown",
      "metadata": {
        "id": "4ctH5lQwHjHP"
      },
      "source": [
        "## 라. 중복 데이터 제거"
      ]
    },
    {
      "cell_type": "markdown",
      "metadata": {
        "id": "uLGWwSTBHjHP"
      },
      "source": [
        "#### 1) 중복 데이터 확인"
      ]
    },
    {
      "cell_type": "code",
      "execution_count": null,
      "metadata": {
        "id": "54qysBuvHjHP"
      },
      "outputs": [],
      "source": [
        "df_dup = pd.read_csv('data/gdp_dup.csv')\n",
        "print(df.describe(include='all'))\n",
        "\n",
        "# 중복 데이터 확인 (고유 관측만 제시)\n",
        "df_dup[df_dup.duplicated()]"
      ]
    },
    {
      "cell_type": "code",
      "execution_count": null,
      "metadata": {
        "id": "-Gn-7fdZHjHP"
      },
      "outputs": [],
      "source": [
        "# 중복 데이터 확인 (모두 표시)\n",
        "df_dup[df_dup.duplicated(keep=False)]"
      ]
    },
    {
      "cell_type": "code",
      "execution_count": null,
      "metadata": {
        "id": "NRSx0JUAHjHP"
      },
      "outputs": [],
      "source": [
        "# 특정 열 기준으로 중복 데이터 확인 (모두 표시)\n",
        "df_dup[df_dup.duplicated(subset=['Country', 'GDP', 'Year'], keep=False)]"
      ]
    },
    {
      "cell_type": "markdown",
      "metadata": {
        "id": "_9-g4PULHjHQ"
      },
      "source": [
        "2) 중복 데이터 제거"
      ]
    },
    {
      "cell_type": "code",
      "execution_count": null,
      "metadata": {
        "id": "e0e7TXxRHjHQ"
      },
      "outputs": [],
      "source": [
        "df_cleaned = df_dup.drop_duplicates()\n",
        "print(df_dup.describe(include='all'))\n",
        "print(df_cleaned.describe(include='all'))"
      ]
    },
    {
      "cell_type": "markdown",
      "metadata": {
        "id": "PlVU-2SBHjHQ"
      },
      "source": [
        "- drop_duplicates()의 옵션\n",
        "    - df.drop_duplicates(subset=['Name', 'Age']) : 중복 여부를 확인할 열의 리스트를 지정\n",
        "    - df.drop_duplicates(keep='last') : 중복 값 중 어느 행을 유지할지 결정\n",
        "        - fist, last, False\n",
        "    - df.drop_duplicates(inplace=True) : 원본 데이터프레임을 수정할지 아니면 수정된 복사본을 반환할지 결정\n",
        "    - df.drop_duplicates(ignore_index=True) :중복 제거 후 인덱스를 새롭게 재설정할지 결정\n",
        "        - True: 인덱스를 0부터 재설정, False: 기존 인덱스를 유지"
      ]
    },
    {
      "cell_type": "markdown",
      "metadata": {
        "id": "swq04_arHjHQ"
      },
      "source": [
        "# 4. 기술 통계 확인\n"
      ]
    },
    {
      "cell_type": "code",
      "execution_count": null,
      "metadata": {
        "id": "iRz_BZUwHjHQ"
      },
      "outputs": [],
      "source": [
        "# 데이터 기본 정보\n",
        "df_cleaned.info()"
      ]
    },
    {
      "cell_type": "code",
      "execution_count": null,
      "metadata": {
        "id": "3DxJ36L1HjHQ"
      },
      "outputs": [],
      "source": [
        "# 데이터 기초 통계 - 모든 열(변수)\n",
        "df_cleaned.describe()"
      ]
    },
    {
      "cell_type": "code",
      "execution_count": null,
      "metadata": {
        "id": "RUk8pwyxHjHQ"
      },
      "outputs": [],
      "source": [
        "# 일부 변수만 보려면\n",
        "basic_stats = df_cleaned[['GDP', 'Corruption']].describe()\n",
        "print(basic_stats)"
      ]
    },
    {
      "cell_type": "code",
      "execution_count": null,
      "metadata": {
        "id": "yAJGSmJiHjHR"
      },
      "outputs": [],
      "source": [
        "# 일부 특정 변수의 조건\n",
        "df_cleaned[df_cleaned['Corruption'] > 30].describe(include='all')"
      ]
    },
    {
      "cell_type": "code",
      "execution_count": null,
      "metadata": {
        "id": "bUsPX4ZzHjHR"
      },
      "outputs": [],
      "source": [
        "# 국가명이 Wakanda와 같은 경우\n",
        "df_cleaned[df_cleaned['Country'] == 'Wakanda'].describe(include='all')"
      ]
    },
    {
      "cell_type": "markdown",
      "metadata": {
        "id": "oe1wnsOIHjHR"
      },
      "source": [
        "# 5. 데이터 시각화"
      ]
    },
    {
      "cell_type": "markdown",
      "metadata": {
        "id": "bjzpMD6EHjHR"
      },
      "source": [
        "-----\n",
        "- Matplotlib과 Seaborn의 차이\n",
        "    - Matplotlib : 낮은 수준의 기본 기능, 높은 수준의 커스터마이징 옵션 제공\n",
        "    - Seaborn : Matplotlib 위에 구축된 라이브러리로, 사용하기 쉬움\n",
        "-----\n",
        "\n",
        "- [질문]: python seaborn으로 강의를 하려해, 어떤 순서와 내용으로 할지 제안해줘\n",
        "- [답변]: 1. 강의 소개/ 2. 설치 및 기본 설정 / 3. 기본 그래프 그리기/ 4. Categorical 데이터 시각화 / 5. 다변량 데이터시각화 /6 스타일과 팔레트 설정\n",
        "- [질문]: (실제 사용 데이터 첨부) + 이 데이터로 위에서 제안한 그래프들의 예시 코드를 제시해줘"
      ]
    },
    {
      "cell_type": "code",
      "execution_count": null,
      "metadata": {
        "id": "ENSXYTnwHjHR"
      },
      "outputs": [],
      "source": [
        "# 패키지 불러오기\n",
        "## seaborn은 matplotlib 위에 구축되어 seaborn과 matblolip 둘 다 import\n",
        "import seaborn as sns\n",
        "import matplotlib.pyplot as plt\n",
        "import pandas as pd\n",
        "import numpy as np\n",
        "\n",
        "data = pd.read_stata('data/gdp_1.dta')"
      ]
    },
    {
      "cell_type": "markdown",
      "metadata": {
        "id": "z-Vjm-EYHjHS"
      },
      "source": [
        "## 가) 라인 그래프"
      ]
    },
    {
      "cell_type": "code",
      "execution_count": null,
      "metadata": {
        "id": "xbPrrET8HjHS"
      },
      "outputs": [],
      "source": [
        "# Line Plot: GDP over Years for each Country\n",
        "sns.lineplot(data=data, x='year', y='gdp', hue='country')\n",
        "plt.title('GDP over Years by Country')\n",
        "plt.show()"
      ]
    },
    {
      "cell_type": "code",
      "execution_count": null,
      "metadata": {
        "colab": {
          "base_uri": "https://localhost:8080/",
          "height": 1000
        },
        "id": "tDeEDB7pHjHS",
        "outputId": "c68fd117-d774-4b69-bb84-b7045abef933"
      },
      "outputs": [],
      "source": [
        "# Line Plot: GDP over Years for each Country\n",
        "sns.lineplot(data=data, x='year', y='gdp', hue='country')\n",
        "plt.title('시간에 따른 GDP 변화')\n",
        "plt.show()"
      ]
    },
    {
      "cell_type": "markdown",
      "metadata": {
        "id": "etDnmJeSHjHS"
      },
      "source": [
        "## - 한글 폰트 설정\n",
        "### Font Family 지정"
      ]
    },
    {
      "cell_type": "code",
      "execution_count": null,
      "metadata": {
        "id": "aO2JHyAhHjHS"
      },
      "outputs": [],
      "source": [
        "plt.rcParams['font.family'] = 'Malgun Gothic'  # Windows의 경우\n",
        "plt.rcParams['axes.unicode_minus'] = False"
      ]
    },
    {
      "cell_type": "markdown",
      "metadata": {
        "id": "Hn3CbsLSHjHS"
      },
      "source": [
        "### 특정 폰트파일을 직접 지정"
      ]
    },
    {
      "cell_type": "code",
      "execution_count": null,
      "metadata": {
        "colab": {
          "base_uri": "https://localhost:8080/"
        },
        "id": "8xMseOh1HjHS",
        "outputId": "d0239580-9ea1-482d-a0d6-2c88ed6ea3b5"
      },
      "outputs": [],
      "source": [
        "import matplotlib.pyplot as plt\n",
        "import matplotlib.font_manager as fm\n",
        "\n",
        "# 폰트 경로 설정\n",
        "font_path = 'font/NanumGothic.ttf'  # NanumGothic.ttf 파일의 경로를 지정하세요\n",
        "\n",
        "# 폰트 등록\n",
        "fontprop = fm.FontProperties(fname=font_path, size=10)\n",
        "plt.rcParams['font.family'] = fontprop.get_name()\n",
        "plt.rcParams['axes.unicode_minus'] = False"
      ]
    },
    {
      "cell_type": "markdown",
      "metadata": {
        "id": "GqFkDMEbNC-5"
      },
      "source": [
        "### Colab에서 한글폰트 사용"
      ]
    },
    {
      "cell_type": "code",
      "execution_count": null,
      "metadata": {
        "id": "hYuM7fZLM-mm"
      },
      "outputs": [],
      "source": [
        "import sys\n",
        "\n",
        "# Google Colab 환경에서 실행 중인지 확인\n",
        "if 'google.colab' in sys.modules:\n",
        "    # debconf를 Noninteractive 모드로 설정\n",
        "    !echo 'debconf debconf/frontend select Noninteractive' | \\\n",
        "    debconf-set-selections\n",
        "\n",
        "    # fonts-nanum 패키지를 설치\n",
        "    !sudo apt-get -qq -y install fonts-nanum\n",
        "\n",
        "    # Matplotlib의 폰트 매니저 가져오기\n",
        "    import matplotlib.font_manager as fm\n",
        "\n",
        "    # 나눔 폰트의 시스템 경로 찾기\n",
        "    font_files = fm.findSystemFonts(fontpaths=['/usr/share/fonts/truetype/nanum'])\n",
        "\n",
        "    # 찾은 각 나눔 폰트를 Matplotlib 폰트 매니저에 추가\n",
        "    for fpath in font_files:\n",
        "        fm.fontManager.addfont(fpath)"
      ]
    },
    {
      "cell_type": "markdown",
      "metadata": {
        "id": "SBwHDo9cHjHT"
      },
      "source": [
        "## 나) Bar 그래프"
      ]
    },
    {
      "cell_type": "code",
      "execution_count": null,
      "metadata": {
        "colab": {
          "base_uri": "https://localhost:8080/",
          "height": 474
        },
        "id": "W9RzlBXtHjHT",
        "outputId": "db0430dd-6317-41c7-a405-dd3a8383e1a7"
      },
      "outputs": [],
      "source": [
        "sns.barplot(data=data, x='country', y='gdp')\n",
        "plt.title('국가별 평균 GDP')\n",
        "plt.show()"
      ]
    },
    {
      "cell_type": "code",
      "execution_count": null,
      "metadata": {
        "colab": {
          "base_uri": "https://localhost:8080/",
          "height": 519
        },
        "id": "XUokMu3JOLlR",
        "outputId": "85e03a4d-dbee-494a-ace1-2bf3b7191606"
      },
      "outputs": [],
      "source": [
        "# [질문] : (기존 코드 붙여넣고) x 축 라벨을 45도 회전시켜줘\n",
        "sns.barplot(data=data, x='country', y='gdp')\n",
        "plt.title('국가별 평균 GDP')\n",
        "\n",
        "# x축 라벨 회전\n",
        "plt.xticks(rotation=45)\n",
        "\n",
        "# 그래프 보여주기\n",
        "plt.show()"
      ]
    },
    {
      "cell_type": "markdown",
      "metadata": {
        "id": "1_LXimDDHjHT"
      },
      "source": [
        "## 다) 히스토그램"
      ]
    },
    {
      "cell_type": "code",
      "execution_count": null,
      "metadata": {
        "colab": {
          "base_uri": "https://localhost:8080/",
          "height": 470
        },
        "id": "BNTvK5hxHjHT",
        "outputId": "acf48385-9810-4671-f494-ce1e1c0c21fc"
      },
      "outputs": [],
      "source": [
        "sns.histplot(data=data, x='gdp')\n",
        "plt.title('GDP 분포', fontproperties=fontprop)\n",
        "plt.show()"
      ]
    },
    {
      "cell_type": "markdown",
      "metadata": {
        "id": "CvSFjs-zHjHT"
      },
      "source": [
        "## 라) Scatter Plot"
      ]
    },
    {
      "cell_type": "code",
      "execution_count": null,
      "metadata": {
        "colab": {
          "base_uri": "https://localhost:8080/",
          "height": 470
        },
        "id": "qgGUw3I6HjHT",
        "outputId": "453bd8a2-50a4-4bcf-8a45-6dd9e35667bc"
      },
      "outputs": [],
      "source": [
        "sns.scatterplot(data=data, x='corruption', y='gdp', hue='country')\n",
        "plt.title('GDP 대 부패도', fontproperties=fontprop)\n",
        "plt.show()"
      ]
    },
    {
      "cell_type": "markdown",
      "metadata": {
        "id": "s6RKM5WSHjHT"
      },
      "source": [
        "## 마) BOX Plot"
      ]
    },
    {
      "cell_type": "code",
      "execution_count": null,
      "metadata": {
        "colab": {
          "base_uri": "https://localhost:8080/",
          "height": 516
        },
        "id": "dbPKBvd8HjHU",
        "outputId": "d736eb34-c9a0-458d-b677-1df02b38c16b"
      },
      "outputs": [],
      "source": [
        "sns.boxplot(data=data, x='country', y='gdp')\n",
        "plt.title('국가별 GDP 분포', fontproperties=fontprop)\n",
        "#plt.xticks(rotation=45)\n",
        "plt.show()"
      ]
    },
    {
      "cell_type": "markdown",
      "metadata": {
        "id": "RMDcbIWCHjHU"
      },
      "source": [
        "## 바) ChatGPT를 이용한 그래프 그리기"
      ]
    },
    {
      "cell_type": "markdown",
      "metadata": {
        "id": "Pl6iN4VUHjHU"
      },
      "source": [
        "- [질문]: stata의 twoway처럼 그리려면?"
      ]
    },
    {
      "cell_type": "code",
      "execution_count": null,
      "metadata": {
        "colab": {
          "base_uri": "https://localhost:8080/",
          "height": 472
        },
        "id": "k3kLzxabHjHU",
        "outputId": "9f6f8cda-7b66-4695-e6fe-69d2210fabc5"
      },
      "outputs": [],
      "source": [
        "# Figure와 Axes 생성\n",
        "fig, ax = plt.subplots(figsize=(10, 6))\n",
        "\n",
        "# Scatter Plot\n",
        "sns.scatterplot(data=data, x='corruption', y='gdp', hue='country', ax=ax)\n",
        "\n",
        "# Regression Line\n",
        "sns.regplot(data=data, x='corruption', y='gdp', scatter=False, ax=ax)\n",
        "\n",
        "# 제목 설정\n",
        "ax.set_title('부패도 대 GDP', fontproperties=fontprop)\n",
        "\n",
        "# 그래프 보여주기\n",
        "plt.show()"
      ]
    },
    {
      "cell_type": "markdown",
      "metadata": {
        "id": "HWvLPTZ4HjHU"
      },
      "source": [
        "- fig, ax = plt.subplots(figsize=(10, 6))의 선언 여부에 따른 차이\n",
        "    - Axes 객체(ax)를 통해 플롯의 다양한 속성을 더 세밀하게 제어할 수 있습니다. 예를 들어, 제목, 축 레이블, 범례 등을 Axes 객체의 메서드를 통해 설정 가능\n",
        "    - Figure의 크기를 명시적으로 설정, 선언하지 않는 경우, Figure의 크기는 Matplotlib의 기본 설정을 따름\n",
        "    - 더 많은 제어와 커스터마이징이 가능하며, 특히 복잡한 플롯을 생성하거나 여러 개의 서브플롯을 배치할 때 유용함\n",
        "\n",
        "- fig라는 틀에 ax라는 종이를 놓고 그 위에 그래프를 그린다고 생각하라"
      ]
    },
    {
      "cell_type": "markdown",
      "metadata": {
        "id": "uUQ2yZ2oHjHU"
      },
      "source": [
        "- [질문]: treated에 따른 GDP의 histogram을 그리려면?\n"
      ]
    },
    {
      "cell_type": "code",
      "execution_count": null,
      "metadata": {
        "colab": {
          "base_uri": "https://localhost:8080/",
          "height": 468
        },
        "id": "-k40Nn61HjHU",
        "outputId": "25353282-41da-4b69-af7b-18bd8b529880"
      },
      "outputs": [],
      "source": [
        "# 히스토그램 그리기\n",
        "sns.histplot(data=data, x='gdp', hue='treated', multiple='stack')\n",
        "plt.title('처리 상태에 따른 GDP 히스토그램', fontproperties=fontprop)\n",
        "plt.xlabel('GDP', fontproperties=fontprop)\n",
        "plt.ylabel('빈도', fontproperties=fontprop)\n",
        "plt.legend(title='Treated', labels=['미처리', '처리'], prop=fontprop)\n",
        "plt.show()"
      ]
    },
    {
      "cell_type": "markdown",
      "metadata": {
        "id": "5z9O1VqDHjHU"
      },
      "source": [
        "- [질문]: 프롬프터에 기존 제시 코드 입력 & 요구사항 제시\n",
        "    - [주의]: 한번에 여러 지시를 하면 기존 그래프와 전혀 다른 그래프를 내놓을 가능성이 있으므로, 순차적으로 요청\n",
        "    - 미처리 범례에 해당하는 히스토그램의 선을 red dotted로 하고, 내부 색상의 alpha를 0.5로 하려면?\n",
        "\n",
        "- [주의]: 경우에 따라 패키지를 추가로 불러와야 할 수 있음"
      ]
    },
    {
      "cell_type": "code",
      "execution_count": null,
      "metadata": {
        "colab": {
          "base_uri": "https://localhost:8080/",
          "height": 468
        },
        "id": "i8NaVqLSHjHV",
        "outputId": "c104433f-2a1a-4e94-b9c7-16afb37467e1"
      },
      "outputs": [],
      "source": [
        "import seaborn as sns\n",
        "import matplotlib.pyplot as plt\n",
        "\n",
        "# 히스토그램 그리기\n",
        "sns.histplot(data=data[data['treated'] == 0], x='gdp', color='green', label='처리', edgecolor='green', alpha=0.5)\n",
        "sns.histplot(data=data[data['treated'] == 1], x='gdp', color='red', label='미처리', edgecolor='red', linestyle='--', alpha=0.3)\n",
        "\n",
        "plt.title('처리 상태에 따른 GDP 히스토그램', fontproperties=fontprop)\n",
        "plt.xlabel('GDP', fontproperties=fontprop)\n",
        "plt.ylabel('빈도', fontproperties=fontprop)\n",
        "plt.legend(title='Treated', labels=['미처리', '처리'], prop=fontprop)\n",
        "plt.show()"
      ]
    },
    {
      "cell_type": "markdown",
      "metadata": {
        "id": "OzK67HgUHjHV"
      },
      "source": [
        "- [질문] : (원하는 그래프 그림 첨부) 이런 그래프를 그리려면?\n",
        "    - 본인의 데이터 예시와 함께 첨부하고, 변수를 잘 설명하면 더 좋은 코드를 제시"
      ]
    },
    {
      "cell_type": "markdown",
      "metadata": {
        "id": "Odo-2rwCHjHV"
      },
      "source": [
        "## 사) 여러 그래프 동시에 배치하기\n",
        "- [질문]: 이 데이터로 gpd와 corruption을 이용해 treated에 따라 scatter를 병렬로 배치하는 코드를 제시해줘"
      ]
    },
    {
      "cell_type": "code",
      "execution_count": null,
      "metadata": {
        "colab": {
          "base_uri": "https://localhost:8080/",
          "height": 354
        },
        "id": "kmn40HrfHjHV",
        "outputId": "e7c235fb-a992-44be-e877-23dae14da099"
      },
      "outputs": [],
      "source": [
        "import matplotlib.pyplot as plt\n",
        "import seaborn as sns\n",
        "import pandas as pd\n",
        "\n",
        "data = pd.read_stata('data/gdp_1.dta')\n",
        "\n",
        "# 데이터 프레임을 Treated 값에 따라 분할\n",
        "treated_data = data[data['treated'] == 1]\n",
        "not_treated_data = data[data['treated'] == 0]\n",
        "\n",
        "# 플롯 크기 설정\n",
        "fig, axes = plt.subplots(nrows=1, ncols=2, figsize=(14, 6))\n",
        "\n",
        "# Treated 데이터 산포도\n",
        "sns.scatterplot(x='corruption', y='gdp', data=treated_data, ax=axes[0])\n",
        "axes[0].set_title('Treated')\n",
        "axes[0].set_xlabel('Corruption')\n",
        "axes[0].set_ylabel('GDP')\n",
        "\n",
        "# Not Treated 데이터 산포도\n",
        "sns.scatterplot(x='corruption', y='gdp', data=not_treated_data, ax=axes[1])\n",
        "axes[1].set_title('Not Treated')\n",
        "axes[1].set_xlabel('Corruption')\n",
        "axes[1].set_ylabel('GDP')\n",
        "\n",
        "# 플롯 보여주기\n",
        "plt.show()"
      ]
    },
    {
      "cell_type": "code",
      "execution_count": null,
      "metadata": {
        "id": "UH63pJzCHjHV"
      },
      "outputs": [],
      "source": [
        "- [추가 질문]: 원하는 부분을 수정해달라고 요청(마커 색, 모양, 크기 등)"
      ]
    },
    {
      "cell_type": "code",
      "execution_count": null,
      "metadata": {
        "colab": {
          "base_uri": "https://localhost:8080/",
          "height": 354
        },
        "id": "6EH_bKowHjHV",
        "outputId": "4cd9c5c3-684d-4184-9ae6-5309751a216f"
      },
      "outputs": [],
      "source": [
        "import matplotlib.pyplot as plt\n",
        "import seaborn as sns\n",
        "import pandas as pd\n",
        "\n",
        "data = pd.read_stata('data/gdp_1.dta')\n",
        "\n",
        "# 데이터 프레임을 Treated 값에 따라 분할\n",
        "treated_data = data[data['treated'] == 1]\n",
        "not_treated_data = data[data['treated'] == 0]\n",
        "\n",
        "# 플롯 크기 설정\n",
        "fig, axes = plt.subplots(nrows=1, ncols=2, figsize=(14, 6))\n",
        "\n",
        "# Treated 데이터 산포도\n",
        "sns.scatterplot(x='corruption', y='gdp', data=treated_data, ax=axes[0], s=200, color='blue', marker='o')\n",
        "axes[0].set_title('Treated')\n",
        "axes[0].set_xlabel('Corruption')\n",
        "axes[0].set_ylabel('GDP')\n",
        "\n",
        "# Not Treated 데이터 산포도\n",
        "sns.scatterplot(x='corruption', y='gdp', data=not_treated_data, ax=axes[1], s=300, color='red', marker='s')\n",
        "axes[1].set_title('Not Treated')\n",
        "axes[1].set_xlabel('Corruption')\n",
        "axes[1].set_ylabel('GDP')\n",
        "\n",
        "# 플롯 보여주기\n",
        "plt.show()"
      ]
    },
    {
      "cell_type": "markdown",
      "metadata": {
        "id": "naHolsmGHjHV"
      },
      "source": [
        "## 사) Anatomy of a Figure"
      ]
    },
    {
      "cell_type": "code",
      "execution_count": null,
      "metadata": {
        "colab": {
          "base_uri": "https://localhost:8080/",
          "height": 718
        },
        "id": "AV6ZG0yCHjHV",
        "outputId": "0aa80ed7-2a53-402a-ba62-70d23d0e25a0"
      },
      "outputs": [],
      "source": [
        "import matplotlib.pyplot as plt\n",
        "import numpy as np\n",
        "\n",
        "from matplotlib.patches import Circle\n",
        "from matplotlib.patheffects import withStroke\n",
        "from matplotlib.ticker import AutoMinorLocator, MultipleLocator\n",
        "\n",
        "royal_blue = [0, 20/256, 82/256]\n",
        "\n",
        "\n",
        "# make the figure\n",
        "\n",
        "np.random.seed(19680801)\n",
        "\n",
        "X = np.linspace(0.5, 3.5, 100)\n",
        "Y1 = 3+np.cos(X)\n",
        "Y2 = 1+np.cos(1+X/0.75)/2\n",
        "Y3 = np.random.uniform(Y1, Y2, len(X))\n",
        "\n",
        "fig = plt.figure(figsize=(7.5, 7.5))\n",
        "ax = fig.add_axes([0.2, 0.17, 0.68, 0.7], aspect=1)\n",
        "\n",
        "ax.xaxis.set_major_locator(MultipleLocator(1.000))\n",
        "ax.xaxis.set_minor_locator(AutoMinorLocator(4))\n",
        "ax.yaxis.set_major_locator(MultipleLocator(1.000))\n",
        "ax.yaxis.set_minor_locator(AutoMinorLocator(4))\n",
        "ax.xaxis.set_minor_formatter(\"{x:.2f}\")\n",
        "\n",
        "ax.set_xlim(0, 4)\n",
        "ax.set_ylim(0, 4)\n",
        "\n",
        "ax.tick_params(which='major', width=1.0, length=10, labelsize=14)\n",
        "ax.tick_params(which='minor', width=1.0, length=5, labelsize=10,\n",
        "               labelcolor='0.25')\n",
        "\n",
        "ax.grid(linestyle=\"--\", linewidth=0.5, color='.25', zorder=-10)\n",
        "\n",
        "ax.plot(X, Y1, c='C0', lw=2.5, label=\"Blue signal\", zorder=10)\n",
        "ax.plot(X, Y2, c='C1', lw=2.5, label=\"Orange signal\")\n",
        "ax.plot(X[::3], Y3[::3], linewidth=0, markersize=9,\n",
        "        marker='s', markerfacecolor='none', markeredgecolor='C4',\n",
        "        markeredgewidth=2.5)\n",
        "\n",
        "ax.set_title(\"Anatomy of a figure\", fontsize=20, verticalalignment='bottom')\n",
        "ax.set_xlabel(\"x Axis label\", fontsize=14)\n",
        "ax.set_ylabel(\"y Axis label\", fontsize=14)\n",
        "ax.legend(loc=\"upper right\", fontsize=14)\n",
        "\n",
        "\n",
        "# Annotate the figure\n",
        "\n",
        "def annotate(x, y, text, code):\n",
        "    # Circle marker\n",
        "    c = Circle((x, y), radius=0.15, clip_on=False, zorder=10, linewidth=2.5,\n",
        "               edgecolor=royal_blue + [0.6], facecolor='none',\n",
        "               path_effects=[withStroke(linewidth=7, foreground='white')])\n",
        "    ax.add_artist(c)\n",
        "\n",
        "    # use path_effects as a background for the texts\n",
        "    # draw the path_effects and the colored text separately so that the\n",
        "    # path_effects cannot clip other texts\n",
        "    for path_effects in [[withStroke(linewidth=7, foreground='white')], []]:\n",
        "        color = 'white' if path_effects else royal_blue\n",
        "        ax.text(x, y-0.2, text, zorder=100,\n",
        "                ha='center', va='top', weight='bold', color=color,\n",
        "                style='italic', fontfamily='monospace',\n",
        "                path_effects=path_effects)\n",
        "\n",
        "        color = 'white' if path_effects else 'black'\n",
        "        ax.text(x, y-0.33, code, zorder=100,\n",
        "                ha='center', va='top', weight='normal', color=color,\n",
        "                fontfamily='monospace', fontsize='medium',\n",
        "                path_effects=path_effects)\n",
        "\n",
        "\n",
        "annotate(3.5, -0.13, \"Minor tick label\", \"ax.xaxis.set_minor_formatter\")\n",
        "annotate(-0.03, 1.0, \"Major tick\", \"ax.yaxis.set_major_locator\")\n",
        "annotate(0.00, 3.75, \"Minor tick\", \"ax.yaxis.set_minor_locator\")\n",
        "annotate(-0.15, 3.00, \"Major tick label\", \"ax.yaxis.set_major_formatter\")\n",
        "annotate(1.68, -0.39, \"xlabel\", \"ax.set_xlabel\")\n",
        "annotate(-0.38, 1.67, \"ylabel\", \"ax.set_ylabel\")\n",
        "annotate(1.52, 4.15, \"Title\", \"ax.set_title\")\n",
        "annotate(1.75, 2.80, \"Line\", \"ax.plot\")\n",
        "annotate(2.25, 1.54, \"Markers\", \"ax.scatter\")\n",
        "annotate(3.00, 3.00, \"Grid\", \"ax.grid\")\n",
        "annotate(3.60, 3.58, \"Legend\", \"ax.legend\")\n",
        "annotate(2.5, 0.55, \"Axes\", \"fig.subplots\")\n",
        "annotate(4, 4.5, \"Figure\", \"plt.figure\")\n",
        "annotate(0.65, 0.01, \"x Axis\", \"ax.xaxis\")\n",
        "annotate(0, 0.36, \"y Axis\", \"ax.yaxis\")\n",
        "annotate(4.0, 0.7, \"Spine\", \"ax.spines\")\n",
        "\n",
        "# frame around figure\n",
        "fig.patch.set(linewidth=4, edgecolor='0.5')\n",
        "plt.show()"
      ]
    },
    {
      "cell_type": "markdown",
      "metadata": {
        "id": "3cHThQQhHjHW"
      },
      "source": [
        "# 99. 연습문제\n",
        "- [질문]: iris data를 불러와서 seaborn을 이용해 다양한 그래프를 그리는 연습문제를 출제한다면?"
      ]
    },
    {
      "cell_type": "markdown",
      "metadata": {
        "id": "fW9ag7SbHjHW"
      },
      "source": [
        "# 가. 데이터 불러오기 및 기본 정보 확인\n",
        "- Iris 데이터셋을 seaborn의 load_dataset 함수를 이용해 불러오세요.\n",
        "- 데이터의 기본 정보를 확인하고, 각 열의 데이터 타입, 결측치 여부, 기본 통계량 등을 출력하세요."
      ]
    },
    {
      "cell_type": "code",
      "execution_count": null,
      "metadata": {
        "colab": {
          "base_uri": "https://localhost:8080/"
        },
        "id": "39D5Lx2wHjHW",
        "outputId": "ea57dfa5-290c-4bb2-b2bb-3e38083164c9"
      },
      "outputs": [],
      "source": [
        "import seaborn as sns\n",
        "import matplotlib.pyplot as plt\n",
        "\n",
        "iris = sns.load_dataset(\"iris\")\n",
        "print(iris.info())\n",
        "print(iris.describe())"
      ]
    },
    {
      "cell_type": "markdown",
      "metadata": {
        "id": "5TEfUaADHjHW"
      },
      "source": [
        "## 나. Scatter Plot\n",
        "- sepal_length와 sepal_width의 관계를 나타내는 산점도를 그리세요. 이때, 꽃의 종류(species)에 따라 색상을 다르게 표현하세요."
      ]
    },
    {
      "cell_type": "code",
      "execution_count": null,
      "metadata": {
        "colab": {
          "base_uri": "https://localhost:8080/",
          "height": 473
        },
        "id": "n8agvb0SHjHW",
        "outputId": "d3ecea1f-a628-4bac-b146-7e3b701d45fd"
      },
      "outputs": [],
      "source": [
        "sns.scatterplot(data=iris, x=\"sepal_length\", y=\"sepal_width\", hue=\"species\")\n",
        "plt.title(\"Sepal Length vs Sepal Width\")\n",
        "plt.show()"
      ]
    },
    {
      "cell_type": "markdown",
      "metadata": {
        "id": "FvfZjeQhHjHW"
      },
      "source": [
        "## 다. 히스토그램 및 커널 밀도 추정 (KDE)\n",
        "- 각 수치형 변수(sepal_length, sepal_width, petal_length, petal_width)에 대해 히스토그램과 커널 밀도 추정(KDE) 그래프를 그리세요. 이때, 꽃의 종류(species)에 따라 색상을 다르게 표현하고, 한 그래프에 제시하세요."
      ]
    },
    {
      "cell_type": "code",
      "execution_count": null,
      "metadata": {
        "colab": {
          "base_uri": "https://localhost:8080/",
          "height": 616
        },
        "id": "DwCjADF-HjHX",
        "outputId": "c497e7f1-715c-4a41-9ee5-75c0280a5a46"
      },
      "outputs": [],
      "source": [
        "# 서브플롯 생성 (2x2 레이아웃)\n",
        "fig, axs = plt.subplots(2, 2, figsize=(12, 10))\n",
        "\n",
        "# Sepal Length의 히스토그램 및 KDE\n",
        "sns.histplot(data=iris, x=\"sepal_length\", hue=\"species\", kde=True, ax=axs[0, 0])\n",
        "axs[0, 0].set_title(\"Histogram and KDE of Sepal Length\")\n",
        "\n",
        "# Sepal Width의 히스토그램 및 KDE\n",
        "sns.histplot(data=iris, x=\"sepal_width\", hue=\"species\", kde=True, ax=axs[0, 1])\n",
        "axs[0, 1].set_title(\"Histogram and KDE of Sepal Width\")\n",
        "\n",
        "# Petal Length의 히스토그램 및 KDE\n",
        "sns.histplot(data=iris, x=\"petal_length\", hue=\"species\", kde=True, ax=axs[1, 0])\n",
        "axs[1, 0].set_title(\"Histogram and KDE of Petal Length\")\n",
        "\n",
        "# Petal Width의 히스토그램 및 KDE\n",
        "sns.histplot(data=iris, x=\"petal_width\", hue=\"species\", kde=True, ax=axs[1, 1])\n",
        "axs[1, 1].set_title(\"Histogram and KDE of Petal Width\")\n",
        "\n",
        "# 레이아웃 조정\n",
        "plt.tight_layout()\n",
        "plt.show()"
      ]
    },
    {
      "cell_type": "markdown",
      "metadata": {
        "id": "qOD4eJzoHjHX"
      },
      "source": [
        "# 100.번외"
      ]
    },
    {
      "cell_type": "markdown",
      "metadata": {
        "id": "7RlD1mWKHjHX"
      },
      "source": [
        "## 가. ChatGPT로 그래프를 그리는 방법"
      ]
    },
    {
      "cell_type": "markdown",
      "metadata": {
        "id": "tJOMNE8tHjHX"
      },
      "source": [
        "- 그래프를 제공하고 코드를 짜달라고 하는 방법\n",
        "<p float=\"center\">\n",
        "  <img src=\"images/Graph.png\" alt=\"Graph Image 1\" width=\"45%\" />\n",
        "  <img src=\"images/histogram.png\" alt=\"Graph Image 2\" width=\"45%\" />\n",
        "</p>"
      ]
    },
    {
      "cell_type": "markdown",
      "metadata": {
        "id": "JNK0zLO9HjHX"
      },
      "source": [
        "나. 나만의 Cheat Sheet\n",
        "- 그래프를 제공하고 코드를 짜달라고 하는 방법\n",
        "<p float=\"center\">\n",
        "  <img src=\"images/histogram_stata.png\" alt=\"Graph Image 1\" width=\"45%\" />\n",
        "  <img src=\"images/scatter_stata.png\" alt=\"Graph Image 2\" width=\"45%\" />\n",
        "</p>"
      ]
    },
    {
      "cell_type": "code",
      "execution_count": null,
      "metadata": {
        "id": "K__t9UNLRZ3C"
      },
      "outputs": [],
      "source": []
    }
  ],
  "metadata": {
    "colab": {
      "provenance": []
    },
    "kernelspec": {
      "display_name": "base",
      "language": "python",
      "name": "python3"
    },
    "language_info": {
      "codemirror_mode": {
        "name": "ipython",
        "version": 3
      },
      "file_extension": ".py",
      "mimetype": "text/x-python",
      "name": "python",
      "nbconvert_exporter": "python",
      "pygments_lexer": "ipython3",
      "version": "3.11.5"
    }
  },
  "nbformat": 4,
  "nbformat_minor": 0
}
