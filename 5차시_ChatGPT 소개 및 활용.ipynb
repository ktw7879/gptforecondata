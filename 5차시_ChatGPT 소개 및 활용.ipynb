{
  "nbformat": 4,
  "nbformat_minor": 0,
  "metadata": {
    "colab": {
      "private_outputs": true,
      "provenance": [],
      "collapsed_sections": [
        "SPdFh1mu0jqW",
        "zMu1QQ3Y00h6",
        "_OkYsoXS1I7u",
        "V2yDikqM1Q1l",
        "cNZsxgov1pvo",
        "te5CA8Ae2NO5",
        "jqHaTMMg2cQ4",
        "v0qXxbAN2jSt",
        "X-SkpYkY2mSW",
        "wSCL10u02vbT",
        "9qwhiw1u9Tgz",
        "S1pJagUi9afs",
        "Brm6kecEBol-"
      ],
      "toc_visible": true,
      "authorship_tag": "ABX9TyPpoRez26Vy74VvPPc74Y2x",
      "include_colab_link": true
    },
    "kernelspec": {
      "name": "python3",
      "display_name": "Python 3"
    },
    "language_info": {
      "name": "python"
    }
  },
  "cells": [
    {
      "cell_type": "markdown",
      "metadata": {
        "id": "view-in-github",
        "colab_type": "text"
      },
      "source": [
        "<a href=\"https://colab.research.google.com/github/dmlcks123/gptforecondata/blob/main/5%EC%B0%A8%EC%8B%9C_ChatGPT%20%EC%86%8C%EA%B0%9C%20%EB%B0%8F%20%ED%99%9C%EC%9A%A9.ipynb\" target=\"_parent\"><img src=\"https://colab.research.google.com/assets/colab-badge.svg\" alt=\"Open In Colab\"/></a>"
      ]
    },
    {
      "cell_type": "markdown",
      "source": [
        "## ChatGPT의 기본 기능"
      ],
      "metadata": {
        "id": "SPdFh1mu0jqW"
      }
    },
    {
      "cell_type": "markdown",
      "source": [
        "### 텍스트 생성"
      ],
      "metadata": {
        "id": "zMu1QQ3Y00h6"
      }
    },
    {
      "cell_type": "markdown",
      "source": [
        "  - **이메일 작성:** \"친구에게 휴가 계획을 알리는 이메일을 작성해 주세요.\"\n",
        "    - **프롬프트 예시:** \"친구에게 휴가 계획을 설명하는 이메일을 작성해 주세요.\"\n",
        "    - **답변 예시:**\n",
        "      ```\n",
        "      안녕 [친구 이름],\n",
        "\n",
        "      잘 지내고 있지? 내가 곧 다가올 휴가 계획에 대해 알려주고 싶어서 이메일을 보냈어. 나는 7월 15일부터 7월 25일까지 하와이로 떠날 예정이야. 해변을 탐험하고, 하이킹을 즐기고, 휴식을 취하는 시간을 가지는 것이 정말 기대돼.\n",
        "\n",
        "      내가 떠나기 전에 시간이 된다면 만나서 이야기 나누고 싶어! 그렇지 않으면 돌아와서 사진과 이야기를 공유할게.\n",
        "\n",
        "      잘 지내,\n",
        "      [네 이름]\n",
        "      ```"
      ],
      "metadata": {
        "id": "1d2czy6g04to"
      }
    },
    {
      "cell_type": "markdown",
      "source": [
        " - **블로그 포스트 생성:** \"건강한 식습관에 관한 블로그 포스트를 작성해 주세요.\"\n",
        "    - **프롬프트 예시:** \"건강한 식습관에 관한 블로그 포스트를 작성해 주세요.\"\n",
        "    - **답변 예시:**\n",
        "      ```\n",
        "      제목: 건강한 식습관을 위한 궁극의 가이드\n",
        "\n",
        "      건강한 식습관은 단순히 다이어트나 최신 트렌드를 따르는 것이 아니라, 전반적인 웰빙을 향상시키는 생활 방식 선택입니다. 다음은 건강한 식습관을 개발하고 유지하는 데 도움이 되는 몇 가지 팁입니다:\n",
        "\n",
        "      1. **다양한 음식 먹기:** 다양한 식품군을 식단에 포함시켜 모든 필요한 영양소를 섭취하세요. 과일, 채소, 저지방 단백질, 통곡물, 건강한 지방을 포함하세요.\n",
        "      2. **적당한 양 조절:** 과식을 피하기 위해 양 조절에 신경 쓰세요. 작은 접시와 그릇을 사용하면 양을 조절하는 데 도움이 됩니다.\n",
        "      3. **수분 섭취:** 하루 종일 충분한 물을 마시세요. 때로는 갈증이 배고픔으로 오인될 수 있습니다.\n",
        "      4. **가공 식품 줄이기:** 가공 식품과 설탕이 많이 들어간 음식을 줄이세요. 최소한 가공된 전체 식품을 선택하세요.\n",
        "      5. **식사 계획:** 사전에 식사를 계획하여 더 건강한 선택을 하고 마지막 순간에 건강하지 않은 선택을 피하세요.\n",
        "\n",
        "      기억하세요, 건강한 식습관은 여정이지 목적지가 아닙니다. 작은 변화부터 시작하여 점진적으로 더 나은 습관을 형성해보세요.\n",
        "\n",
        "      건강한 식사 되세요!\n",
        "      ```"
      ],
      "metadata": {
        "id": "Ao8kpjJn0_uY"
      }
    },
    {
      "cell_type": "markdown",
      "source": [
        "### 대화 생성"
      ],
      "metadata": {
        "id": "_OkYsoXS1I7u"
      }
    },
    {
      "cell_type": "markdown",
      "source": [
        " - **고객 지원:** \"환불 요청에 대한 고객의 질문에 답변해 주세요.\"\n",
        "    - **프롬프트 예시:** \"환불 요청에 대한 고객의 질문에 답변해 주세요.\"\n",
        "    - **답변 예시:**\n",
        "      ```\n",
        "      고객: 안녕하세요, 최근 구매에 대한 환불을 요청하고 싶어요.\n",
        "\n",
        "      지원 에이전트: 안녕하세요! 환불을 요청하시다니 죄송합니다. 주문 번호와 환불 요청 사유를 알려주시겠어요?\n",
        "\n",
        "      고객: 네, 주문 번호는 123456이에요. 받은 제품이 불량이고 기대한 대로 작동하지 않아요.\n",
        "\n",
        "      지원 에이전트: 불편을 드려 죄송합니다. 환불을 처리해드리겠습니다. 환불이 계좌에 반영되기까지 5-7 영업일이 소요될 수 있습니다. 대체 제품을 보내드릴까요?\n",
        "\n",
        "      고객: 아니요, 환불만 해주세요. 감사합니다.\n",
        "\n",
        "      지원 에이전트: 알겠습니다. 환불 요청이 처리되었습니다. 다른 질문이나 추가 도움이 필요하시면 언제든지 연락주세요. 좋은 하루 되세요!\n",
        "      ```"
      ],
      "metadata": {
        "id": "O2Si0Ed21LDW"
      }
    },
    {
      "cell_type": "markdown",
      "source": [
        "- **챗봇:** \"사용자가 예약을 변경하고 싶어 할 때의 대화를 만들어 주세요.\"\n",
        "    - **프롬프트 예시:** \"사용자가 예약을 변경하고 싶어 할 때의 대화를 만들어 주세요.\"\n",
        "    - **답변 예시:**\n",
        "      ```\n",
        "      사용자: 안녕하세요, 예약을 변경하고 싶어요.\n",
        "\n",
        "      챗봇: 안녕하세요! 도와드리겠습니다. 예약 번호를 알려주시겠어요?\n",
        "\n",
        "      사용자: 네, 예약 번호는 ABC12345에요.\n",
        "\n",
        "      챗봇: 감사합니다. 예약에 어떤 변경을 원하시나요?\n",
        "\n",
        "      사용자: 날짜를 7월 10일에서 7월 15일로 변경하고 싶어요.\n",
        "\n",
        "      챗봇: 7월 15일의 가능 여부를 확인하겠습니다. 잠시만 기다려 주세요... 좋은 소식입니다! 7월 15일에 예약 가능합니다. 예약을 업데이트했습니다. 다른 도움이 필요하신가요?\n",
        "\n",
        "      사용자: 아니요, 그게 다예요. 감사합니다!\n",
        "\n",
        "      챗봇: 감사합니다! 예약이 성공적으로 업데이트되었습니다. 좋은 하루 되세요!\n",
        "      ```\n"
      ],
      "metadata": {
        "id": "dA4izxIq1OmR"
      }
    },
    {
      "cell_type": "markdown",
      "source": [
        "### 요약 및 정보 추출"
      ],
      "metadata": {
        "id": "V2yDikqM1Q1l"
      }
    },
    {
      "cell_type": "markdown",
      "source": [
        " - **문서 요약:** \"10페이지 분량의 보고서를 1페이지로 요약해 주세요.\"\n",
        "    - **프롬프트 예시:** \"10페이지 분량의 보고서를 1페이지로 요약해 주세요.\"\n",
        "    - **답변 예시:**\n",
        "      ```\n",
        "      이 10페이지 분량의 보고서는 소셜 미디어 마케팅이 소비자 행동에 미치는 영향을 분석합니다. 주요 발견 사항은 다음과 같습니다:\n",
        "\n",
        "      1. 소셜 미디어 플랫폼은 구매 결정에 크게 영향을 미치며, 소비자의 70%가 소셜 미디어에서 팔로우하는 브랜드에서 구매할 가능성이 더 높습니다.\n",
        "      2. 이미지와 동영상과 같은 시각적 콘텐츠가 텍스트 기반 콘텐츠보다 더 많은 관심을 끌고 있습니다.\n",
        "      3. 사용자 생성 콘텐츠, 특히 리뷰와 추천은 브랜드 신뢰도를 높이고 소비자 신뢰를 증대시킵니다.\n",
        "      4. 소셜 미디어 광고, 특히 타겟 광고는 전통적인 광고 방법보다 높은 전환율을 보입니다.\n",
        "      5. 소셜 미디어를 통해 사용자와 상호작용하는 브랜드는 고객 충성도와 유지율이 높아집니다.\n",
        "\n",
        "      보고서는 기업이 강력한 소셜 미디어 전략에 투자하고, 시각적 및 사용자 생성 콘텐츠에 집중하여 참여를 극대화하고 판매를 촉진할 것을 권장합니다.\n",
        "      ```"
      ],
      "metadata": {
        "id": "EB377lDL1SYk"
      }
    },
    {
      "cell_type": "markdown",
      "source": [
        "\n",
        "  - **정보 추출:** \"문서에서 주요 통계 데이터를 추출해 주세요.\"\n",
        "    - **프롬프트 예시:** \"문서에서 주요 통계 데이터를 추출해 주세요.\"\n",
        "    - **답변 예시:**\n",
        "      ```\n",
        "      - 소비자의 70%가 소셜 미디어에서 팔로우하는 브랜드에서 구매할 가능성이 더 높습니다.\n",
        "      - 시각적 콘텐츠는 텍스트 기반 콘텐츠보다 2.3배 더 많은 관심을 끌고 있습니다.\n",
        "      - 사용자 생성 콘텐츠는 브랜드 신뢰도를 60% 증가시킵니다.\n",
        "      - 타겟 소셜 미디어 광고는 전통적인 광고보다 25% 높은 전환율을 보입니다.\n",
        "      - 소셜 미디어에서 사용자와 상호작용하는 브랜드는 고객 충성도가 20% 증가합니다.\n",
        "      ```"
      ],
      "metadata": {
        "id": "714Ksl1Y1UF6"
      }
    },
    {
      "cell_type": "markdown",
      "source": [
        "## ChatGPT의 고급 기능"
      ],
      "metadata": {
        "id": "oUZ0XA8z1oFD"
      }
    },
    {
      "cell_type": "markdown",
      "source": [
        "### 번역 및 다국어 지원"
      ],
      "metadata": {
        "id": "cNZsxgov1pvo"
      }
    },
    {
      "cell_type": "markdown",
      "source": [
        "- **텍스트 번역:** \"영어로 작성된 문서를 한국어로 번역해 주세요.\"\n",
        "    - **프롬프트 예시:** \"영어로 작성된 문서를 한국어로 번역해 주세요.\"\n",
        "    - **답변 예시:**\n",
        "      ```\n",
        "      영어: \"The impact of social media on consumer behavior is significant. Brands that engage with customers on social platforms see higher sales and loyalty.\"\n",
        "\n",
        "      한국어: \"소비자 행동에 미치는 소셜 미디어의 영향은 큽니다. 소셜 플랫폼에서 고객과 소통하는 브랜드는 더 높은 판매와 충성도를 보입니다.\"\n",
        "      ```"
      ],
      "metadata": {
        "id": "5Kbjmjj31r2H"
      }
    },
    {
      "cell_type": "markdown",
      "source": [
        " - **다국어 대화:** \"스페인어 사용자와 대화할 때의 시나리오를 만들어 주세요.\"\n",
        "    - **프롬프트 예시:** \"스페인어 사용자와 대화할 때의 시나리오를 만들어 주세요.\"\n",
        "    - **답변 예시:**\n",
        "      ```\n",
        "      사용자: Hola, me gustaría cambiar la fecha de mi reserva.\n",
        "\n",
        "      챗봇: ¡Hola! Claro, puedo ayudarte con eso. ¿Podrías proporcionarme tu número de reserva?\n",
        "\n",
        "      사용자: Sí, es ABC12345.\n",
        "\n",
        "      챗봇: Gracias. ¿Qué cambios te gustaría hacer en tu reserva?\n",
        "\n",
        "      사용자: Me gustaría cambiar la fecha del 10 de julio al 15 de julio.\n",
        "\n",
        "      챗봇: Permíteme verificar la disponibilidad para el 15 de julio. Un momento, por favor... ¡Buenas noticias\n",
        "\n",
        "      사용자: No, eso es todo. ¡Gracias!\n",
        "\n",
        "      챗봇: ¡De nada! Tu reserva ha sido actualizada con éxito. ¡Que tengas un excelente día!\n",
        "  ```"
      ],
      "metadata": {
        "id": "HhvpglVj1thm"
      }
    },
    {
      "cell_type": "markdown",
      "source": [
        "### 문서 작성 도우미"
      ],
      "metadata": {
        "id": "te5CA8Ae2NO5"
      }
    },
    {
      "cell_type": "markdown",
      "source": [
        "  - **보고서 작성:** \"프로젝트 진행 보고서를 작성해 주세요.\"\n",
        "    - **프롬프트 예시:** \"프로젝트 진행 보고서를 작성해 주세요.\"\n",
        "    - **답변 예시:**\n",
        "      ```text\n",
        "      프로젝트 진행 보고서\n",
        "\n",
        "      프로젝트 이름: 웹사이트 리디자인\n",
        "      날짜: 2024년 7월 6일\n",
        "\n",
        "      개요:\n",
        "      웹사이트 리디자인 프로젝트는 계획대로 진행되고 있습니다. 이 프로젝트의 목표는 사용자 경험을 개선하고 사이트의 시각적 디자인을 업데이트하는 것입니다.\n",
        "\n",
        "      완료된 작업:\n",
        "      - 초기 디자인 개념이 만들어지고 승인되었습니다.\n",
        "      - 사용자 경험 (UX) 연구가 수행되었습니다.\n",
        "      - 홈페이지와 주요 섹션의 개발이 진행 중입니다.\n",
        "\n",
        "      향후 작업:\n",
        "      - 나머지 페이지 개발 계속 진행\n",
        "      - 사용성 테스트 수행\n",
        "      - 피드백 반영 및 필요한 조정\n",
        "\n",
        "      문제점:\n",
        "      - 예상치 못한 기술적 문제로 인해 약간의 지연이 발생했지만, 해결 중입니다.\n",
        "\n",
        "      결론:\n",
        "      프로젝트는 예정된 출시 날짜에 맞춰 진행되고 있습니다. 새로운 디자인이 사용자 만족도와 참여도를 높일 것으로 확신합니다.\n",
        "\n",
        "      작성자: [당신의 이름]\n",
        "      ```"
      ],
      "metadata": {
        "id": "Rf1XLLx_2PCK"
      }
    },
    {
      "cell_type": "markdown",
      "source": [
        "  - **서식 및 스타일 적용:** \"비즈니스 제안서를 작성해 주세요.\"\n",
        "    - **프롬프트 예시:** \"비즈니스 제안서를 작성해 주세요.\"\n",
        "    - **답변 예시:**\n",
        "      ```text\n",
        "      비즈니스 제안서\n",
        "\n",
        "      회사 이름: 이노베이티브 솔루션즈 주식회사\n",
        "      날짜: 2024년 7월 6일\n",
        "\n",
        "      제안 대상: 디지털 마케팅 서비스\n",
        "\n",
        "      요약:\n",
        "      이노베이티브 솔루션즈 주식회사는 [고객의 회사]를 위한 디지털 마케팅 서비스 제안을 기쁘게 생각합니다. 우리의 목표는 포괄적인 디지털 마케팅 전략을 통해 귀하의 온라인 존재를 강화하고, 브랜드 인지도를 높이며, 웹사이트로의 트래픽을 증가시키는 것입니다.\n",
        "\n",
        "      제공 서비스:\n",
        "      - 검색 엔진 최적화 (SEO)\n",
        "      - 소셜 미디어 관리\n",
        "      - 콘텐츠 마케팅\n",
        "      - 클릭당 지불 광고 (PPC)\n",
        "      - 이메일 마케팅\n",
        "\n",
        "      프로젝트 일정:\n",
        "      - 1단계: 연구 및 전략 개발 (2주)\n",
        "      - 2단계: 실행 (3개월)\n",
        "      - 3단계: 모니터링 및 최적화 (지속적)\n",
        "\n",
        "      예산:\n",
        "      - 총 비용: $50,000\n",
        "      - 결제 조건: 50% 선불, 50% 완료 후\n",
        "\n",
        "      혜택:\n",
        "      - 웹사이트 트래픽 증가\n",
        "      - 검색 엔진 순위 향상\n",
        "      - 브랜드 가시성 강화\n",
        "      - 고객 참여도 증가\n",
        "\n",
        "      결론:\n",
        "      우리의 디지털 마케팅 서비스가 [고객의 회사]에 큰 혜택을 줄 것으로 확신합니다. 귀사의 비즈니스 목표 달성을 돕기 위해 함께 일할 기회를 기대합니다.\n",
        "\n",
        "      진심으로,\n",
        "      [당신의 이름]\n",
        "      이노베이티브 솔루션즈 주식회사\n",
        "      ```"
      ],
      "metadata": {
        "id": "IPc8k1cI2Ses"
      }
    },
    {
      "cell_type": "markdown",
      "source": [
        "### 코드 작성 및 디버깅"
      ],
      "metadata": {
        "id": "jqHaTMMg2cQ4"
      }
    },
    {
      "cell_type": "markdown",
      "source": [
        "  - **코드 생성:** \"파이썬으로 간단한 웹 스크래핑 코드를 작성해 주세요.\"\n",
        "    - **프롬프트 예시:** \"파이썬으로 간단한 웹 스크래핑 스크립트를 작성해 주세요.\"\n",
        "    - **답변 예시:**\n",
        "      ```python\n",
        "      import requests\n",
        "      from bs4 import BeautifulSoup\n",
        "\n",
        "      # 스크래핑할 URL\n",
        "      url = 'http://example.com'\n",
        "\n",
        "      # 웹사이트에 요청 보내기\n",
        "      response = requests.get(url)\n",
        "      if response.status_code == 200:\n",
        "          # HTML 내용 파싱\n",
        "          soup = BeautifulSoup(response.content, 'html.parser')\n",
        "          \n",
        "          # 웹페이지의 제목 찾기 및 출력\n",
        "          title = soup.find('title').get_text()\n",
        "          print('웹페이지 제목:', title)\n",
        "      else:\n",
        "          print('웹페이지를 가져오지 못했습니다')\n",
        "      ```\n"
      ],
      "metadata": {
        "id": "YhXWV6oA2ed4"
      }
    },
    {
      "cell_type": "markdown",
      "source": [
        "  - **디버깅:** \"아래의 코드를 디버깅해 주세요.\"\n",
        "    - **프롬프트 예시:** \"다음 코드를 디버깅해 주세요: [코드 삽입].\"\n",
        "    - **답변 예시:**\n",
        "      ```python\n",
        "      # 오류가 있는 원래 코드\n",
        "      def add_numbers(a, b)\n",
        "          result = a + b\n",
        "          return result\n",
        "\n",
        "      num1 = 10\n",
        "      num2 = 20\n",
        "      print(add_numbers(num1, num2)\n",
        "\n",
        "      # 디버깅된 코드\n",
        "      def add_numbers(a, b):\n",
        "          result = a + b\n",
        "          return result\n",
        "\n",
        "      num1 = 10\n",
        "      num2 = 20\n",
        "      print(add_numbers(num1, num2))\n",
        "      ```"
      ],
      "metadata": {
        "id": "GGxIfiNA2g0v"
      }
    },
    {
      "cell_type": "markdown",
      "source": [
        "## ChatGPT 활용 사례"
      ],
      "metadata": {
        "id": "v0qXxbAN2jSt"
      }
    },
    {
      "cell_type": "markdown",
      "source": [
        "### 비즈니스"
      ],
      "metadata": {
        "id": "X-SkpYkY2mSW"
      }
    },
    {
      "cell_type": "markdown",
      "source": [
        "  - **마케팅 카피 작성:** \"제품 광고 문구를 작성해 주세요.\"\n",
        "    - **프롬프트 예시:** \"새로운 제품을 위한 광고 문구를 작성해 주세요.\"\n",
        "    - **답변 예시:**\n",
        "      ```text\n",
        "      새로운 UltraBlend Pro를 소개합니다 - 모든 것을 해내는 블렌더! 스무디에서 수프까지, 이 강력한 기계는 어떤 블렌딩 작업도 쉽게 처리합니다. 세련된 디자인과 고급 기능으로, UltraBlend Pro는 모든 주방에 완벽한 추가 아이템입니다. 지금 주문하고 코드 ULTRABLEND20을 사용하여 20% 할인을 받으세요!\n",
        "      ```"
      ],
      "metadata": {
        "id": "wWcsW4zW2oNS"
      }
    },
    {
      "cell_type": "markdown",
      "source": [
        " - **고객 서비스 챗봇:** \"고객의 FAQ에 답변하는 챗봇을 만들어 주세요.\"\n",
        "    - **프롬프트 예시:** \"고객 FAQ에 답변하는 챗봇을 만들어 주세요.\"\n",
        "    - **답변 예시:**\n",
        "      ```text\n",
        "      고객: 귀사의 반품 정책은 무엇인가요?\n",
        "\n",
        "      챗봇: 저희 반품 정책은 구매 후 30일 이내에 원래 상태와 포장으로 반품하시면 전액 환불해드립니다. 자세한 내용은 반품 정책 페이지를 참조하세요.\n",
        "\n",
        "      고객: 주문을 어떻게 추적할 수 있나요?\n",
        "\n",
        "      챗봇: 주문을 추적하려면 계정에 로그인하고 \"주문 내역\" 섹션을 방문하세요. 거기서 추적 번호와 운송업체의 추적 페이지 링크를 찾을 수 있습니다.\n",
        "\n",
        "      고객: 국제 배송을 제공하나요?\n",
        "\n",
        "      챗봇: 네, 선택된 국가로 국제 배송을 제공합니다. 배송 요금 및 배송 시간은 목적지에 따라 다릅니다. 자세한 내용은 배송 정보 페이지를 확인하세요.\n",
        "      ```"
      ],
      "metadata": {
        "id": "7XxamAtL2syG"
      }
    },
    {
      "cell_type": "markdown",
      "source": [
        "### 교육"
      ],
      "metadata": {
        "id": "wSCL10u02vbT"
      }
    },
    {
      "cell_type": "markdown",
      "source": [
        "  - **과제 도움:** \"수학 문제를 설명해 주세요.\"\n",
        "    - **프롬프트 예시:** \"이 수학 문제를 설명해 주세요: [문제 삽입].\"\n",
        "    - **답변 예시:**\n",
        "      ```text\n",
        "      문제: 2x + 3 = 7의 x를 구하세요.\n",
        "\n",
        "      x를 구하기 위해 다음 단계를 따르세요:\n",
        "      1. 방정식 양쪽에서 3을 뺍니다: 2x + 3 - 3 = 7 - 3\n",
        "      2. 방정식을 단순화합니다: 2x = 4\n",
        "      3. 양쪽을 2로 나눕니다: 2x / 2 = 4 / 2\n",
        "      4. 방정식을 단순화합니다: x = 2\n",
        "\n",
        "      따라서, x = 2입니다.\n",
        "      ```"
      ],
      "metadata": {
        "id": "b3Lbpyy12wZT"
      }
    },
    {
      "cell_type": "markdown",
      "source": [
        "**교육 자료 생성:** \"르네상스에 대한 역사 수업 자료를 만들어 주세요.\"\n",
        "- **프롬프트 예시:** \"르네상스에 대한 역사 수업 자료를 만들어 주세요.\"\n",
        "- **답변 예시:**\n",
        "\n",
        "      ```text\n",
        "      제목: 르네상스\n",
        "\n",
        "      소개:\n",
        "      르네상스는 14세기부터 17세기까지 유럽에서 일어난 문화 및 예술의 대부흥 시기입니다. 이는 중세에서 근대로의 전환을 나타내며, 고대 그리스와 로마의 고전 예술과 학문에 대한 새로운 관심이 특징입니다.\n",
        "\n",
        "      주요 인물:\n",
        "      - 레오나르도 다 빈치: 모나리자와 최후의 만찬과 같은 걸작으로 유명한 예술가, 과학자, 발명가.\n",
        "      - 미켈란젤로: 시스티나 성당 천장화와 다비드 상으로 잘 알려진 유명한 조각가 및 화가.\n",
        "      - 라파엘로: 바티칸에서의 작업과 성모자 (마돈나)의 묘사로 유명한 화가 및 건축가.\n",
        "\n",
        "      주요 업적:\n",
        "      - 예술: 회화에서 원근법의 발전으로 인해 더 현실적이고 3차원적인 작품들이 탄생했습니다\n",
        "      - 과학: 해부학, 천문학, 물리학에서의 발전이 전통적인 관점을 도전하고 현대 과학의 기초를 마련했습니다.\n",
        "      - 문학: 단테, 페트라르카, 셰익스피어와 같은 작가들이 인간 본성과 감정을 탐구한 문학 작품들이 번성했습니다.\n",
        "\n",
        "      결론:\n",
        "      르네상스는 예술, 문화, 과학, 철학에 깊은 영향을 미친 중요한 시기였습니다. 그 유산은 오늘날까지도 우리의 세계와 그 안에서의 위치를 이해하는 데 계속 영향을 미치고 있습니다.\n",
        "\n",
        "      토론을 위한 질문:\n",
        "      1. 르네상스 예술가들은 예술을 창작하고 인식하는 방식을 어떻게 변화시켰습니까?\n",
        "      2. 르네상스의 주요 과학적 발견은 무엇이며, 이들이 사회에 미친 영향은 무엇입니까?\n",
        "      3. 르네상스 문학은 그 시대의 인문주의 사상을 어떻게 반영하고 있습니까?\n",
        "      ```\n",
        "      "
      ],
      "metadata": {
        "id": "rF3GmwlI20x9"
      }
    },
    {
      "cell_type": "markdown",
      "source": [
        "### 개인적 용도"
      ],
      "metadata": {
        "id": "dubLhURD3CBb"
      }
    },
    {
      "cell_type": "markdown",
      "source": [
        "- **일정 관리:** \"이번 주 일정을 계획해 주세요.\"\n",
        "    - **프롬프트 예시:** \"이번 주 일정을 계획해 주세요.\"\n",
        "    - **답변 예시:**\n",
        "      ```text\n",
        "      주간 일정:\n",
        "\n",
        "      월요일:\n",
        "      - 오전 9시: 팀 회의\n",
        "      - 오전 11시: 프로젝트 작업\n",
        "      - 오후 1시: 점심 시간\n",
        "      - 오후 2시: 고객 통화\n",
        "      - 오후 4시: 헬스장\n",
        "\n",
        "      화요일:\n",
        "      - 오전 10시: 마케팅 발표\n",
        "      - 오후 12시: 사라와의 점심\n",
        "      - 오후 2시: 보고서 작업\n",
        "      - 오후 5시: 요가 수업\n",
        "\n",
        "      수요일:\n",
        "      - 오전 9시: 파트너와의 화상 회의\n",
        "      - 오전 11시: 제품 개발\n",
        "      - 오후 1시: 점심 시간\n",
        "      - 오후 3시: 팀 브레인스토밍 세션\n",
        "\n",
        "      목요일:\n",
        "      - 오전 10시: 이메일 확인 및 응답\n",
        "      - 오전 11시: 예산 검토\n",
        "      - 오후 1시: 점심 시간\n",
        "      - 오후 3시: 전략 계획 회의\n",
        "\n",
        "      금요일:\n",
        "      - 오전 9시: 주간 검토 회의\n",
        "      - 오전 11시: 프로젝트 작업 마무리\n",
        "      - 오후 1시: 점심 시간\n",
        "      - 오후 2시: 다음 주 일정 준비\n",
        "      - 오후 4시: 동료들과 해피 아워\n",
        "\n",
        "      토요일:\n",
        "      - 개인 활동을 위한 자유 시간\n",
        "\n",
        "      일요일:\n",
        "      - 오전 10시: 가족과 브런치\n",
        "      - 오후 2시: 휴식 및 독서\n",
        "      ```"
      ],
      "metadata": {
        "id": "OzbSPdJO3DfX"
      }
    },
    {
      "cell_type": "markdown",
      "source": [
        " - **창작 활동:** \"시를 작성해 주세요.\"\n",
        "    - **프롬프트 예시:** \"자연에 관한 시를 작성해 주세요.\"\n",
        "    - **답변 예시:**\n",
        "      ```text\n",
        "      숲 속 깊은 곳에서,\n",
        "      고요히 잠든 오래된 나무들 아래,\n",
        "      바람이 나뭇잎 사이로 속삭이며,\n",
        "      옛날 이야기를 부드럽게 전하네.\n",
        "\n",
        "      에메랄드 빛 그늘 아래,\n",
        "      햇살이 춤추며,\n",
        "      자연의 아름다움 속에서,\n",
        "      마음의 평화를 찾네.\n",
        "\n",
        "      산들바람이 부는 들판에서,\n",
        "      꽃들이 피어나며,\n",
        "      생명의 노래를 부르네,\n",
        "      자연의 조화 속에서.\n",
        "      ```"
      ],
      "metadata": {
        "id": "fEmpu_Jn3HDd"
      }
    },
    {
      "cell_type": "markdown",
      "source": [
        "## ChatGPT Playground"
      ],
      "metadata": {
        "id": "HXf3LwdS4XRP"
      }
    },
    {
      "cell_type": "markdown",
      "source": [
        "- chatgpt playground를 통해 맞춤형 GPT를 생성하고 사용할 수 있습니다.\n",
        "- 프롬프팅 예시를 통해 특성에 맞는 GPT를 생성할 수 있다.\n",
        "(https://platform.openai.com/playground/chat)"
      ],
      "metadata": {
        "id": "VLvBSAev4a4v"
      }
    },
    {
      "cell_type": "markdown",
      "source": [
        "**파라미터 설정**\n",
        "\n",
        "- temperature : 0.0 ~ 1.0 창의성 정도, 낮을수록 사실 높을수록 창의성\n",
        "- maximum length : 0 ~ 4000 생성하는 텍스트의 토큰\n",
        "- stop sequences : API 호출시 입력한 키를 호출하면 추가 토큰 생성을 중단\n",
        "- top_p : 단어의 확률 분포에서 상위 p%만큼 단어를 선택, 낮을수록 문장일관성 높고 높을수록 문장 다양성 높음\n",
        "- frequency_penalty : 값이 높을수록 다양한 단어 생성\n",
        "- presence_penalty : 값이 높을수록 특정 단어나 문장을 생략\n",
        "- best of : 값이 높을수록 많은 양의 문장을 생성\n",
        "- inject start text : ex) 안녕하세요\n",
        "- inject restart text : ex) 그리고, 또는"
      ],
      "metadata": {
        "id": "drnWAPnb_nem"
      }
    },
    {
      "cell_type": "markdown",
      "source": [
        "## GPT 확장프로그램"
      ],
      "metadata": {
        "id": "PdshqAlNCz-j"
      }
    },
    {
      "cell_type": "markdown",
      "source": [
        "- chatGPT for google : google 검색결과와 chatGPT 결과 동시에 출력\n",
        "- 프롬프트 지니 : 한글 질문을 영어로 자동번역 -> 답변 정확도 향상, 출력 속도 향상, 이전대화 기억 향상\n",
        "- WebchatGPT : 실시간 검색 기능 추가한 chatGPT\n",
        "- AIRPM for ChatGPT : 원하는 주제에 맞는 프롬프트를 제공하고 질문시 자동으로 적용되게하는 확장프로그램\n",
        "- stable diffusion : (https://stablediffusionweb.com/app/image-generator)\n",
        "- Youtube Summary with ChatGPT : youtube 영샹 요약 (현재는 영어만 지원) -> llilys AI는 한국어 지원(성능 더 우수함) + 요약에선 제미니아가 나을 수도\n",
        "- 그 외 슬리드(https://home.slid.cc/) -> 영상필기 (https://slid.cc/share/docs/chatgpt-고급-데이터-분석-advanced-data-analysis-기능의-이해-6c9b8064bb214b868d1d1cc46cc8876f)\n",
        "- chatGPT Writer: G메일 대신 써줌(무료계정은 gpt3.5)"
      ],
      "metadata": {
        "id": "bfOP8DOQC13u"
      }
    },
    {
      "cell_type": "markdown",
      "source": [
        "**그 외**\n",
        "- 데이터 전처리\n",
        "- 데이터 시각화\n",
        "- 이미지 디자인"
      ],
      "metadata": {
        "id": "_LbEWiv2FBjf"
      }
    },
    {
      "cell_type": "markdown",
      "source": [
        "**프롬프트 공유**\n",
        "\n",
        "- 논문 작성시 표절에 걸리지 않기 위한 스킬: 인간이 작성한 글과 유사한 방식으로 특정 패턴을 반복하지 않고\n",
        "- 논문 작성시 GPTs로 지도교수님 대표적인 어투를 예시 글로 넣고 그 어투대로 작성해"
      ],
      "metadata": {
        "id": "Pwfd1oKjVRoO"
      }
    },
    {
      "cell_type": "markdown",
      "source": [
        "## OPEN AI API 활용하기"
      ],
      "metadata": {
        "id": "9qwhiw1u9Tgz"
      }
    },
    {
      "cell_type": "markdown",
      "source": [
        "**구글 스프레드시트에서 활용하기**\n",
        "\n",
        "(https://docs.google.com/spreadsheets/d/1zja7T_nqrx_k-G2Alv3Il6q1tldjmOsTF28m59fQyQY/edit?usp=sharing)"
      ],
      "metadata": {
        "id": "6tYl5ja1kHsl"
      }
    },
    {
      "cell_type": "markdown",
      "source": [
        "### 이전 버전 OPENAi\n",
        "##1. 소개\n",
        "OpenAI API는 GPT-4와 같은 강력한 언어 모델을 사용하여 다양한 자연어 처리 작업을 수행할 수 있도록 도와줍니다. 이 강의에서는 OpenAI API를 활용하여 간단한 애플리케이션을 개발하는 방법을 소개합니다.\n",
        "\n",
        "## 2. 사전 준비\n",
        "### 2.1 API 키 발급\n",
        "1. OpenAI 웹사이트에서 회원가입 및 로그인\n",
        "2. API 키 발급 (https://platform.openai.com/api-keys)\n",
        "3. 과금 상황 (https://platform.openai.com/usage)\n",
        "4. 가격표 (https://openai.com/api/pricing/)\n",
        "5. tokenizer 파악 (https://platform.openai.com/tokenizer)\n"
      ],
      "metadata": {
        "id": "S1pJagUi9afs"
      }
    },
    {
      "cell_type": "markdown",
      "source": [
        "![api 발급화면](/content/image1.png)"
      ],
      "metadata": {
        "id": "FUJZesTmG2Fv"
      }
    },
    {
      "cell_type": "markdown",
      "source": [
        "**핸드폰 인증과 퀴즈풀기를 끝내면 api 발급 완료**"
      ],
      "metadata": {
        "id": "wokbVxdvIhd2"
      }
    },
    {
      "cell_type": "markdown",
      "source": [
        "![api 발급완료화면](/content/image2.png)"
      ],
      "metadata": {
        "id": "_rr7YUEDIuqt"
      }
    },
    {
      "cell_type": "code",
      "source": [
        "### 2.2 환경 설정\n",
        "!pip install openai==0.27.0"
      ],
      "metadata": {
        "id": "Jcwu6y2CFkMF"
      },
      "execution_count": null,
      "outputs": []
    },
    {
      "cell_type": "code",
      "source": [
        "import openai\n",
        "\n",
        "openai.api_key = ''"
      ],
      "metadata": {
        "id": "YoCAq97VFcKU"
      },
      "execution_count": null,
      "outputs": []
    },
    {
      "cell_type": "code",
      "source": [
        "try:\n",
        "    response = openai.ChatCompletion.create(\n",
        "      model=\"gpt-3.5-turbo\",\n",
        "      messages=[\n",
        "        {\"role\": \"system\", \"content\": \"You are a helpful assistant.\"},\n",
        "        {\"role\": \"user\", \"content\": \"Hello, world!\"}\n",
        "      ]\n",
        "    )\n",
        "    print(response['choices'][0]['message']['content'].strip())\n",
        "except openai.error.RateLimitError as e:\n",
        "    print(\"Rate limit exceeded. Please try again later.\")\n"
      ],
      "metadata": {
        "id": "GWZtXM4tPGqe"
      },
      "execution_count": null,
      "outputs": []
    },
    {
      "cell_type": "markdown",
      "source": [
        "- ChatCompletion 객체 생성: openai.ChatCompletion.create() 메서드를 사용하여 ChatCompletion 객체를 생성합니다.\n",
        "- 모델 지정: model=\"gpt-3.5-turbo\"로 사용할 모델을 지정합니다.\n",
        "- 메시지 구성: messages 파라미터를 통해 모델에 전달할 메시지를 설정합니다. 여기서는 두 개의 메시지가 포함됩니다:\n",
        "- 첫 번째 메시지: {\"role\": \"system\", \"content\": \"You are a helpful assistant.\"} - 시스템 역할로서, 모델에게 주어진 역할을 알려줍니다.\n",
        "- 두 번째 메시지: {\"role\": \"user\", \"content\": \"Hello, world!\"} - 사용자 역할로서, 실제로 모델에게 전달할 입력입니다.\n",
        "- 응답 출력: response['choices'][0]['message']['content'].strip()로 응답에서 첫 번째 메시지의 내용을 출력합니다.\n",
        "- 예외 처리: try-except 블록을 사용하여 RateLimitError 예외를 처리합니다. 이 예외는 API 호출이 할당량을 초과했을 때 발생합니다."
      ],
      "metadata": {
        "id": "FvSUXu_iPvGQ"
      }
    },
    {
      "cell_type": "code",
      "source": [
        "try:\n",
        "    response = openai.ChatCompletion.create(\n",
        "      model=\"gpt-3.5-turbo\",\n",
        "      messages=[\n",
        "        {\"role\": \"system\", \"content\": \"You are a helpful assistant.\"},\n",
        "        {\"role\": \"user\", \"content\": \"Once upon a time\"}\n",
        "      ]\n",
        "    )\n",
        "    print(response['choices'][0]['message']['content'].strip())\n",
        "except openai.error.RateLimitError as e:\n",
        "    print(\"Rate limit exceeded. Please try again later.\")"
      ],
      "metadata": {
        "id": "DvrSUKQxFi5S"
      },
      "execution_count": null,
      "outputs": []
    },
    {
      "cell_type": "markdown",
      "source": [
        "- 텍스트 생성 요청: openai.ChatCompletion.create() 메서드를 사용하여 특정 프롬프트(\"Once upon a time\")에 대한 텍스트 생성을 요청합니다.\n",
        "- 응답 출력: 모델이 생성한 텍스트를 출력합니다. 이 텍스트는 주어진 프롬프트를 기반으로 생성된 이야기의 시작 부분입니다."
      ],
      "metadata": {
        "id": "Io_kIUP-QOiF"
      }
    },
    {
      "cell_type": "code",
      "source": [
        "try:\n",
        "    response = openai.ChatCompletion.create(\n",
        "      model=\"gpt-3.5-turbo\",\n",
        "      messages=[\n",
        "        {\"role\": \"system\", \"content\": \"You are a helpful assistant.\"},\n",
        "        {\"role\": \"user\", \"content\": \"What is the capital of France?\"}\n",
        "      ]\n",
        "    )\n",
        "    print(response['choices'][0]['message']['content'].strip())\n",
        "except openai.error.RateLimitError as e:\n",
        "    print(\"Rate limit exceeded. Please try again later.\")"
      ],
      "metadata": {
        "id": "UQm6ZpuTK2Az"
      },
      "execution_count": null,
      "outputs": []
    },
    {
      "cell_type": "markdown",
      "source": [
        "- 질문 답변 요청: openai.ChatCompletion.create() 메서드를 사용하여 특정 질문(\"What is the capital of France?\")에 대한 답변을 요청합니다.\n",
        "- 응답 출력: 모델이 생성한 답변을 출력합니다. 이 경우, 모델은 프랑스의 수도인 파리를 반환합니다."
      ],
      "metadata": {
        "id": "D7szztksQGwM"
      }
    },
    {
      "cell_type": "markdown",
      "source": [
        "### 최신 버전 openAI"
      ],
      "metadata": {
        "id": "Brm6kecEBol-"
      }
    },
    {
      "cell_type": "markdown",
      "source": [
        "- openAI 깃헙 프로젝트\n",
        "(https://github.com/openai/openai-python)"
      ],
      "metadata": {
        "id": "c1GZbqLQBu7V"
      }
    },
    {
      "cell_type": "code",
      "source": [
        "pip install openai --upgrade"
      ],
      "metadata": {
        "id": "AS-R1i6jCIFf"
      },
      "execution_count": null,
      "outputs": []
    },
    {
      "cell_type": "code",
      "source": [
        "import os\n",
        "from openai import OpenAI\n",
        "\n",
        "# 환경 변수로 API 키 설정\n",
        "os.environ['OPENAI_API_KEY'] = ''\n",
        "\n",
        "client = OpenAI(\n",
        "    # This is the default and can be omitted\n",
        "    api_key=os.environ.get('OPENAI_API_KEY'),\n",
        ")\n",
        "\n",
        "# 질문내용\n",
        "prompt = \"What is the capital of France?\"\n",
        "\n",
        "chat_completion = client.chat.completions.create(\n",
        "    messages=[\n",
        "        {\n",
        "            \"role\": \"user\",\n",
        "            \"content\": prompt,\n",
        "        }\n",
        "    ],\n",
        "    model=\"gpt-3.5-turbo\",\n",
        ")"
      ],
      "metadata": {
        "id": "g3DVocLoCI4r"
      },
      "execution_count": null,
      "outputs": []
    },
    {
      "cell_type": "markdown",
      "source": [
        "**Garbage in, Garbage out**"
      ],
      "metadata": {
        "id": "OrtbyplpQJLk"
      }
    }
  ]
}