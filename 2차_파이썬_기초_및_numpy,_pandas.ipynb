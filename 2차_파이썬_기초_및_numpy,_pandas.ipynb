{
  "nbformat": 4,
  "nbformat_minor": 0,
  "metadata": {
    "colab": {
      "private_outputs": true,
      "provenance": [],
      "authorship_tag": "ABX9TyNW/mXCr4bXNxZ9raCAQIxd",
      "include_colab_link": true
    },
    "kernelspec": {
      "name": "python3",
      "display_name": "Python 3"
    },
    "language_info": {
      "name": "python"
    }
  },
  "cells": [
    {
      "cell_type": "markdown",
      "metadata": {
        "id": "view-in-github",
        "colab_type": "text"
      },
      "source": [
        "<a href=\"https://colab.research.google.com/github/dmlcks123/gptforecondata/blob/main/2%EC%B0%A8_%ED%8C%8C%EC%9D%B4%EC%8D%AC_%EA%B8%B0%EC%B4%88_%EB%B0%8F_numpy%2C_pandas.ipynb\" target=\"_parent\"><img src=\"https://colab.research.google.com/assets/colab-badge.svg\" alt=\"Open In Colab\"/></a>"
      ]
    },
    {
      "cell_type": "markdown",
      "source": [
        "# 파이썬 기초"
      ],
      "metadata": {
        "id": "eqbmyb_xkPgx"
      }
    },
    {
      "cell_type": "markdown",
      "source": [
        "**프롬프터**\n",
        "1. 선생님 파이썬 데이터 종류에 대해 간단하고 자세하게 설명해주시죠\n",
        "2. 선생님 python 데이터 구조에 대해서 필요한 만큼 자세히 알려주시죠 예제도 보여줬으면 좋겠습니다\n",
        "3. 선생님 python 데이터 종류별로 데이터 불러오기에 대해서 간단하게 설명해주시죠\n",
        "4. 선생님 python 제어문 간단하지만 자세하게 알려주시죠 예문은 포함시켜주세요\n",
        "5. 선생님 python 사칙연산에 대해 간단하게 설명해주시죠"
      ],
      "metadata": {
        "id": "nE1KCddY_WRJ"
      }
    },
    {
      "cell_type": "markdown",
      "source": [
        "## 데이터 종류"
      ],
      "metadata": {
        "id": "eyRL-NYTclWW"
      }
    },
    {
      "cell_type": "markdown",
      "source": [
        "- 정수형(int) : 소수점이 없는 숫자"
      ],
      "metadata": {
        "id": "jgzSlHmLc-L6"
      }
    },
    {
      "cell_type": "code",
      "source": [
        "a = 10\n",
        "b = 3\n",
        "print(a + b)  # 13\n",
        "print(a - b)  # 7\n",
        "print(a * b)  # 30\n",
        "print(a / b)  # 3.333...\n",
        "print(a ** b)  # 1000"
      ],
      "metadata": {
        "id": "LYu4MzIxdFPD"
      },
      "execution_count": null,
      "outputs": []
    },
    {
      "cell_type": "markdown",
      "source": [
        "- 실수형(float) : 소수점이 있는 숫자"
      ],
      "metadata": {
        "id": "ZnCWFBnsdROZ"
      }
    },
    {
      "cell_type": "markdown",
      "source": [
        "- 실수형 데이터를 int()를 활용하여 정수형으로 변환할때 소수점 이하는 내림한다."
      ],
      "metadata": {
        "id": "gZAURNXGdwXi"
      }
    },
    {
      "cell_type": "code",
      "source": [
        "c = 3.14\n",
        "d = 0.5\n",
        "print(c + d)  # 3.64\n",
        "print(c - d)  # 2.64\n",
        "print(c * d)  # 1.57\n",
        "print(c / d)  # 6.28"
      ],
      "metadata": {
        "id": "WV3ua4vEdVAX"
      },
      "execution_count": null,
      "outputs": []
    },
    {
      "cell_type": "markdown",
      "source": [
        "- 문자열(string) : 문자들의 집합으로, 큰따옴표(\" \") 또는 작은따옴표(' ')로 감싸서 표현"
      ],
      "metadata": {
        "id": "xF5qGXp7dW9j"
      }
    },
    {
      "cell_type": "code",
      "source": [
        "e = \"Hello\"\n",
        "f = \"World\"\n",
        "print(e + \" \" + f)  # \"Hello World\"\n",
        "print(e * 3)  # \"HelloHelloHello\"\n",
        "print(len(e))  # 5"
      ],
      "metadata": {
        "id": "ZwR0np56ddeA"
      },
      "execution_count": null,
      "outputs": []
    },
    {
      "cell_type": "markdown",
      "source": [
        "- 논리형(boolean) : True 또는 False로 표현"
      ],
      "metadata": {
        "id": "UoIF2kKwdidV"
      }
    },
    {
      "cell_type": "code",
      "source": [
        "g = True\n",
        "h = False\n",
        "print(g and h)  # False\n",
        "print(g or h)  # True\n",
        "print(not g)  # False"
      ],
      "metadata": {
        "id": "YyEuS0UJdlIy"
      },
      "execution_count": null,
      "outputs": []
    },
    {
      "cell_type": "markdown",
      "source": [
        "## 데이터 구조"
      ],
      "metadata": {
        "id": "k_eVYTO4j0dL"
      }
    },
    {
      "cell_type": "markdown",
      "source": [
        "### 리스트(List) : 리스트는 다양한 데이터 타입을 포함할 수 있으며, 인덱스를 통해 개별 요소에 접근할 수 있습니다."
      ],
      "metadata": {
        "id": "4NwAnRztRAI2"
      }
    },
    {
      "cell_type": "code",
      "source": [
        "# 리스트 생성\n",
        "my_list = [1, 2, 3, 'a', 'b', 'c']\n",
        "\n",
        "# 리스트 요소 접근\n",
        "print(my_list[0])  # 1\n",
        "\n",
        "# 리스트 요소 변경\n",
        "my_list[0] = 10\n",
        "print(my_list)  # [10, 2, 3, 'a', 'b', 'c']\n",
        "\n",
        "# 리스트 요소 추가\n",
        "my_list.append(4)\n",
        "print(my_list)  # [10, 2, 3, 'a', 'b', 'c', 4]\n",
        "\n",
        "# 리스트 요소 삭제\n",
        "del my_list[1]\n",
        "print(my_list)  # [10, 3, 'a', 'b', 'c', 4]"
      ],
      "metadata": {
        "id": "imfHTM1VZUT5"
      },
      "execution_count": null,
      "outputs": []
    },
    {
      "cell_type": "markdown",
      "source": [
        "### 튜플(Tuple) : 튜플은 리스트와 비슷하지만, 요소의 값을 변경할 수 없습니다."
      ],
      "metadata": {
        "id": "idT_cMslZ9nn"
      }
    },
    {
      "cell_type": "code",
      "source": [
        "# 튜플 생성\n",
        "my_tuple = (1, 2, 3, 'a', 'b', 'c')\n",
        "\n",
        "# 튜플 요소 접근\n",
        "print(my_tuple[0])  # 1\n",
        "\n",
        "# 튜플 요소 변경 불가\n",
        "# my_tuple[0] = 10  # 오류 발생\n",
        "\n",
        "# 튜플 요소 추가 불가\n",
        "# my_tuple.append(4)  # 오류 발생"
      ],
      "metadata": {
        "id": "G9p0vVhPaJbm"
      },
      "execution_count": null,
      "outputs": []
    },
    {
      "cell_type": "markdown",
      "source": [
        "### 세트(Set) : 세트는 집합을 표현하는 자료형으로, 중복을 허용하지 않습니다."
      ],
      "metadata": {
        "id": "xxeGOenCaRww"
      }
    },
    {
      "cell_type": "code",
      "source": [
        "# 세트 생성\n",
        "my_set = {1, 2, 3, 'a', 'b', 'c'}\n",
        "\n",
        "# 세트 요소 추가\n",
        "my_set.add(4)\n",
        "print(my_set)  # {1, 2, 3, 4, 'a', 'b', 'c'}\n",
        "\n",
        "# 세트 요소 삭제\n",
        "my_set.remove('a')\n",
        "print(my_set)  # {1, 2, 3, 4, 'b', 'c'}\n",
        "\n",
        "# 세트는 중복된 요소를 허용하지 않음\n",
        "my_set.add(4)\n",
        "print(my_set)  # {1, 2, 3, 4, 'b', 'c'}"
      ],
      "metadata": {
        "id": "u6wmyHmIaVvJ"
      },
      "execution_count": null,
      "outputs": []
    },
    {
      "cell_type": "markdown",
      "source": [
        "### 딕셔너리(Dictionary) : 딕셔너리는 키-값 쌍으로 구성되어 있으며, 키를 통해 값을 얻을 수 있습니다."
      ],
      "metadata": {
        "id": "cfLtcg-UaXbb"
      }
    },
    {
      "cell_type": "code",
      "source": [
        "# 딕셔너리 생성\n",
        "my_dict = {'name': 'Alice', 'age': 25, 'city': 'New York'}\n",
        "\n",
        "# 딕셔너리 요소 접근\n",
        "print(my_dict['name'])  # Alice\n",
        "\n",
        "# 딕셔너리 요소 추가 및 변경\n",
        "my_dict['age'] = 30\n",
        "print(my_dict)  # {'name': 'Alice', 'age': 30, 'city': 'New York'}\n",
        "\n",
        "# 딕셔너리 요소 삭제\n",
        "del my_dict['city']\n",
        "print(my_dict)  # {'name': 'Alice', 'age': 30}"
      ],
      "metadata": {
        "id": "ZK9QKE9jaZaW"
      },
      "execution_count": null,
      "outputs": []
    },
    {
      "cell_type": "markdown",
      "source": [
        "그 외: 스택(stack, LIFO), 큐(queue, FIFO)가 있음"
      ],
      "metadata": {
        "id": "H4ir1vqNj3Jj"
      }
    },
    {
      "cell_type": "markdown",
      "source": [
        "## 데이터 불러오기"
      ],
      "metadata": {
        "id": "zYr9CMGGjOis"
      }
    },
    {
      "cell_type": "markdown",
      "source": [
        "### csv 파일 불러오기"
      ],
      "metadata": {
        "id": "4XDMqBXbjXCX"
      }
    },
    {
      "cell_type": "markdown",
      "source": [
        "- 콤마 구분자"
      ],
      "metadata": {
        "id": "L9pBPQ21sXR0"
      }
    },
    {
      "cell_type": "code",
      "source": [
        "import numpy as np\n",
        "from google.colab import files\n",
        "\n",
        "# CSV 파일 업로드\n",
        "uploaded = files.upload()\n",
        "\n",
        "# 파일 이름을 확인하고 'economic_data.csv'로 변경하세요\n",
        "filename = list(uploaded.keys())[0]\n",
        "print(\"Uploaded file name:\", filename)\n",
        "\n",
        "# CSV 파일에서 데이터 불러오기 (콤마 구분자)\n",
        "data = np.genfromtxt(filename, delimiter=',', skip_header=1)\n",
        "\n",
        "# 데이터 확인\n",
        "print(\"Data shape:\", data.shape)\n",
        "print(\"First 5 rows of data:\\n\", data[:5])\n"
      ],
      "metadata": {
        "id": "knnMax3Olh9M"
      },
      "execution_count": null,
      "outputs": []
    },
    {
      "cell_type": "markdown",
      "source": [
        "* 탭 구분자"
      ],
      "metadata": {
        "id": "PgF_xR05qJLv"
      }
    },
    {
      "cell_type": "code",
      "source": [
        "# CSV 파일에서 데이터 불러오기 (탭 구분자)\n",
        "data_tab = np.genfromtxt(filename, delimiter='\\t', skip_header=1)"
      ],
      "metadata": {
        "id": "bh4O6u4Wlx8V"
      },
      "execution_count": null,
      "outputs": []
    },
    {
      "cell_type": "markdown",
      "source": [
        "- 세미콜론 구분자"
      ],
      "metadata": {
        "id": "-2UXIuIRqMX9"
      }
    },
    {
      "cell_type": "code",
      "source": [
        "# CSV 파일에서 데이터 불러오기 (세미콜론 구분자)\n",
        "data_semicolon = np.genfromtxt(filename, delimiter=';', skip_header=1)"
      ],
      "metadata": {
        "id": "RNwNvo5MnMDo"
      },
      "execution_count": null,
      "outputs": []
    },
    {
      "cell_type": "markdown",
      "source": [
        "### Excel 파일 불러오기"
      ],
      "metadata": {
        "id": "I1z4eHe3p8rr"
      }
    },
    {
      "cell_type": "code",
      "source": [
        "import pandas as pd\n",
        "import numpy as np\n",
        "from google.colab import files\n",
        "\n",
        "# Excel 파일 업로드\n",
        "uploaded = files.upload()\n",
        "\n",
        "# 파일 이름을 확인하고 'economic_data.xlsx'로 변경하세요\n",
        "filename = list(uploaded.keys())[0]\n",
        "print(\"Uploaded file name:\", filename)\n",
        "\n",
        "# Excel 파일에서 데이터 불러오기\n",
        "df = pd.read_excel(filename)\n",
        "\n",
        "# Pandas DataFrame을 NumPy 배열로 변환\n",
        "data = df.to_numpy()\n",
        "\n",
        "# 데이터 확인\n",
        "print(\"Data shape:\", data.shape)\n",
        "print(\"First 5 rows of data:\\n\", data[:5])"
      ],
      "metadata": {
        "id": "rzkf_UXrqHj8"
      },
      "execution_count": null,
      "outputs": []
    },
    {
      "cell_type": "markdown",
      "source": [
        "### 텍스트 파일 불러오기"
      ],
      "metadata": {
        "id": "0cxKskZasHtm"
      }
    },
    {
      "cell_type": "code",
      "source": [
        "import numpy as np\n",
        "from google.colab import files\n",
        "\n",
        "# 텍스트 파일 업로드\n",
        "uploaded = files.upload()\n",
        "\n",
        "# 파일 이름을 확인하고 'economic_data.txt'로 변경하세요\n",
        "filename = list(uploaded.keys())[0]\n",
        "print(\"Uploaded file name:\", filename)\n",
        "\n",
        "# 텍스트 파일에서 데이터 불러오기 (예: 공백으로 구분된 데이터)\n",
        "data = np.loadtxt(filename, delimiter=' ')\n",
        "\n",
        "# 데이터 확인\n",
        "print(\"Data shape:\", data.shape)\n",
        "print(\"First 5 rows of data:\\n\", data[:5])\n"
      ],
      "metadata": {
        "id": "rvmT1bH7t2PG"
      },
      "execution_count": null,
      "outputs": []
    },
    {
      "cell_type": "markdown",
      "source": [
        "### Github 파일 불러오기"
      ],
      "metadata": {
        "id": "Y-h-2Qpzpv1-"
      }
    },
    {
      "cell_type": "code",
      "source": [
        "import pandas as pd\n",
        "import numpy as np\n",
        "\n",
        "# CSV 파일의 GitHub Raw URL\n",
        "url = 'https://github.com/username/repository/raw/main/data.csv'\n",
        "\n",
        "# Pandas를 사용하여 CSV 파일 불러오기\n",
        "df = pd.read_csv(url)\n",
        "\n",
        "# 데이터 확인\n",
        "print(\"Data shape:\", df.shape)\n",
        "print(\"First 5 rows of data:\\n\", df.head())\n",
        "\n",
        "# Pandas DataFrame을 NumPy 배열로 변환\n",
        "data = df.to_numpy()\n",
        "\n",
        "# NumPy 배열 확인\n",
        "print(\"NumPy array shape:\", data.shape)\n",
        "print(\"First 5 rows of NumPy array:\\n\", data[:5])\n"
      ],
      "metadata": {
        "id": "65HcMWvKpzHM"
      },
      "execution_count": null,
      "outputs": []
    },
    {
      "cell_type": "markdown",
      "source": [
        "### JSON 파일 불러오기"
      ],
      "metadata": {
        "id": "1-pq3KClsPJ3"
      }
    },
    {
      "cell_type": "code",
      "source": [
        "import json\n",
        "import numpy as np\n",
        "from google.colab import files\n",
        "\n",
        "# JSON 파일 업로드\n",
        "uploaded = files.upload()\n",
        "\n",
        "# 파일 이름을 확인하고 'economic_data.json'로 변경하세요\n",
        "filename = list(uploaded.keys())[0]\n",
        "print(\"Uploaded file name:\", filename)\n",
        "\n",
        "# JSON 파일에서 데이터 불러오기\n",
        "with open(filename, 'r') as f:\n",
        "    json_data = json.load(f)\n",
        "\n",
        "# 예를 들어 JSON 데이터가 리스트의 리스트 형태라면, NumPy 배열로 변환\n",
        "data = np.array(json_data)\n",
        "\n",
        "# 데이터 확인\n",
        "print(\"Data shape:\", data.shape)\n",
        "print(\"First 5 rows of data:\\n\", data[:5])\n"
      ],
      "metadata": {
        "id": "_5U-6ZMJuQqJ"
      },
      "execution_count": null,
      "outputs": []
    },
    {
      "cell_type": "markdown",
      "source": [
        "## 제어문"
      ],
      "metadata": {
        "id": "JrGADykEnamu"
      }
    },
    {
      "cell_type": "markdown",
      "source": [
        "### 조건문(if, elif, else)"
      ],
      "metadata": {
        "id": "25GDDPXijyuS"
      }
    },
    {
      "cell_type": "code",
      "source": [
        "age = 18\n",
        "\n",
        "if age < 18:\n",
        "    print(\"미성년자입니다.\")\n",
        "elif age == 18:\n",
        "    print(\"막 성인이 되었습니다.\")\n",
        "else:\n",
        "    print(\"성인입니다.\")"
      ],
      "metadata": {
        "id": "N0s68A1sjy97"
      },
      "execution_count": null,
      "outputs": []
    },
    {
      "cell_type": "markdown",
      "source": [
        "- age 변수에 18을 할당합니다.\n",
        "- if 문으로 age가 18보다 작은지 검사합니다. 참이면 \"미성년자입니다.\"를 출력합니다.\n",
        "- elif 문으로 age가 18과 같은지 검사합니다. 참이면 \"막 성인이 되었습니다.\"를 출력합니다.\n",
        "- 위의 조건이 모두 거짓이면 else 문이 실행되어 \"성인입니다.\"를 출력합니다."
      ],
      "metadata": {
        "id": "oaNUjUDf_Xif"
      }
    },
    {
      "cell_type": "markdown",
      "source": [
        "### 반복문(for, while, break, continue)"
      ],
      "metadata": {
        "id": "Yi7P9PIuobjp"
      }
    },
    {
      "cell_type": "code",
      "source": [
        "# for 문 예제\n",
        "fruits = [\"apple\", \"banana\", \"cherry\"]\n",
        "\n",
        "for fruit in fruits:\n",
        "    print(fruit)"
      ],
      "metadata": {
        "id": "ldjmcDGwohL9"
      },
      "execution_count": null,
      "outputs": []
    },
    {
      "cell_type": "markdown",
      "source": [
        "- fruits 리스트에 세 가지 과일을 저장합니다.\n",
        "- for 문으로 리스트의 각 요소를 순회하면서 fruit 변수에 하나씩 할당하고 출력합니다."
      ],
      "metadata": {
        "id": "KQMOge5L_Tsr"
      }
    },
    {
      "cell_type": "code",
      "source": [
        "# while 문 예제\n",
        "count = 0\n",
        "\n",
        "while count < 5:\n",
        "    print(count)\n",
        "    count += 1"
      ],
      "metadata": {
        "id": "8bPp0yjm8n4U"
      },
      "execution_count": null,
      "outputs": []
    },
    {
      "cell_type": "markdown",
      "source": [
        "- count 변수를 0으로 초기화합니다.\n",
        "- while 문으로 count가 5보다 작은 동안 반복합니다.\n",
        "- 반복할 때마다 count 값을 출력하고, count를 1씩 증가시킵니다."
      ],
      "metadata": {
        "id": "e5XiICq6_Oj2"
      }
    },
    {
      "cell_type": "code",
      "source": [
        "# break 문 예제\n",
        "for i in range(10):\n",
        "    if i == 5:\n",
        "        break\n",
        "    print(i)"
      ],
      "metadata": {
        "id": "BQSyw7PY8uiw"
      },
      "execution_count": null,
      "outputs": []
    },
    {
      "cell_type": "markdown",
      "source": [
        "- for 문으로 0부터 9까지 순회합니다.\n",
        "- if 문으로 i가 5가 되면 break 문을 실행하여 반복문을 종료합니다.\n",
        "- i 값이 5가 되기 전까지는 값을 출력합니다."
      ],
      "metadata": {
        "id": "MNZOaDJS_Jx3"
      }
    },
    {
      "cell_type": "code",
      "source": [
        "# continue 문 예제\n",
        "for i in range(10):\n",
        "    if i % 2 == 0:\n",
        "        continue\n",
        "    print(i)\n"
      ],
      "metadata": {
        "id": "GCJR9HNb82BG"
      },
      "execution_count": null,
      "outputs": []
    },
    {
      "cell_type": "markdown",
      "source": [
        "- for 문으로 0부터 9까지 순회합니다.\n",
        "- if 문으로 i가 짝수이면 continue 문을 실행하여 다음 반복으로 넘어갑니다.\n",
        "- i 값이 홀수일 때만 출력합니다."
      ],
      "metadata": {
        "id": "X_9Yo_EU_HZi"
      }
    },
    {
      "cell_type": "markdown",
      "source": [
        "### 중첩 제어문"
      ],
      "metadata": {
        "id": "jir9mPaM8666"
      }
    },
    {
      "cell_type": "code",
      "source": [
        "# 중첩 제어문 예제\n",
        "for i in range(5):\n",
        "    if i % 2 == 0:\n",
        "        print(f\"{i}는 짝수입니다.\")\n",
        "    else:\n",
        "        print(f\"{i}는 홀수입니다.\")"
      ],
      "metadata": {
        "id": "wtZtaV-L83IV"
      },
      "execution_count": null,
      "outputs": []
    },
    {
      "cell_type": "markdown",
      "source": [
        "- for 문으로 0부터 4까지 순회합니다.\n",
        "- if 문으로 i가 짝수이면 \"{i}는 짝수입니다.\"를 출력합니다.\n",
        "- 그렇지 않으면 else 문을 실행하여 \"{i}는 홀수입니다.\"를 출력합니다."
      ],
      "metadata": {
        "id": "FUn5ANHA_Bpu"
      }
    },
    {
      "cell_type": "markdown",
      "source": [
        "## 사칙연산"
      ],
      "metadata": {
        "id": "2mJfEwpc_nCQ"
      }
    },
    {
      "cell_type": "markdown",
      "source": [
        "- 덧셈: +\n",
        "- 뺄셈: -\n",
        "- 곱셈: *\n",
        "- 나눗셈: /\n",
        "- 나머지 연산: %\n",
        "- 몫 연산: //\n",
        "- 거듭제곱: **"
      ],
      "metadata": {
        "id": "hZkrOdVtBqqX"
      }
    },
    {
      "cell_type": "code",
      "source": [
        "# 나눗셈 예제\n",
        "a = 5\n",
        "b = 3\n",
        "result = a / b\n",
        "print(\"나눗셈 결과:\", result)  # 결과: 1.6666666666666667"
      ],
      "metadata": {
        "id": "tIXKXz7aB2z6"
      },
      "execution_count": null,
      "outputs": []
    },
    {
      "cell_type": "code",
      "source": [
        "# 몫 연산 예제\n",
        "a = 5\n",
        "b = 3\n",
        "result = a // b\n",
        "print(\"몫 연산 결과:\", result)  # 결과: 1"
      ],
      "metadata": {
        "id": "nQHwURsAB4uW"
      },
      "execution_count": null,
      "outputs": []
    },
    {
      "cell_type": "markdown",
      "source": [
        "# NumPy"
      ],
      "metadata": {
        "id": "t09d5z84_p6J"
      }
    },
    {
      "cell_type": "markdown",
      "source": [
        "**프롬프터**\n",
        "\n",
        "1. 선생님 이번엔 경제데이터를 분석하는데 필요한 numpy 라이브러리에 대해서 알아야 할 내용들을 간단하게 말씀주시죠. 예제는 포함하고 자세하게 설명해주요\n",
        "2. 그렇군요 선생님 경제데이터를 분석하는데 필요한 numpy 라이브러리 지식을 예제와 함께 설명해주세요\n",
        "3. 경제데이터에 초점을 두기보다는 numpy library 기능에 대해서 확인하고 싶습니다. 예제에 대한 설명과 핵심기능만을 소개해주세요. 그러나 데이터 분석에 필요한 기능은 빠뜨리지 않았으면 합니다."
      ],
      "metadata": {
        "id": "u-id7MHeHlKS"
      }
    },
    {
      "cell_type": "markdown",
      "source": [
        "## 배열 생성"
      ],
      "metadata": {
        "id": "cdSqIRwr_wfN"
      }
    },
    {
      "cell_type": "markdown",
      "source": [
        "- np.array: 리스트를 numpy 배열로 변환합니다."
      ],
      "metadata": {
        "id": "jttBVbxHF3f-"
      }
    },
    {
      "cell_type": "code",
      "source": [
        "import numpy as np\n",
        "\n",
        "# 1차원 배열 생성\n",
        "arr1 = np.array([1, 2, 3, 4, 5])\n",
        "print(\"1차원 배열:\", arr1)\n",
        "\n",
        "# 2차원 배열 생성\n",
        "arr2 = np.array([[1, 2, 3], [4, 5, 6]])\n",
        "print(\"2차원 배열:\\n\", arr2)"
      ],
      "metadata": {
        "id": "LqIBgBUuFILr"
      },
      "execution_count": null,
      "outputs": []
    },
    {
      "cell_type": "markdown",
      "source": [
        "- np.zeros((m, n)): m x n 크기의 배열을 생성하고 모든 요소를 0으로 초기화합니다."
      ],
      "metadata": {
        "id": "csz1w6CKF5lC"
      }
    },
    {
      "cell_type": "code",
      "source": [
        "# 0으로 채워진 배열 생성\n",
        "zeros = np.zeros((2, 3))\n",
        "print(\"0으로 채워진 배열:\\n\", zeros)"
      ],
      "metadata": {
        "id": "4sUjgv55F7en"
      },
      "execution_count": null,
      "outputs": []
    },
    {
      "cell_type": "markdown",
      "source": [
        "- np.ones((m, n)): m x n 크기의 배열을 생성하고 모든 요소를 1로 초기화합니다."
      ],
      "metadata": {
        "id": "eDOoSXCcF9VG"
      }
    },
    {
      "cell_type": "code",
      "source": [
        "# 1로 채워진 배열 생성\n",
        "ones = np.ones((2, 3))\n",
        "print(\"1로 채워진 배열:\\n\", ones)"
      ],
      "metadata": {
        "id": "5UPokI7KGARb"
      },
      "execution_count": null,
      "outputs": []
    },
    {
      "cell_type": "markdown",
      "source": [
        "- np.arange(start, stop, step): start부터 stop까지 step 간격으로 값을 가지는 배열을 생성합니다."
      ],
      "metadata": {
        "id": "onqnjtWrGBeD"
      }
    },
    {
      "cell_type": "code",
      "source": [
        "# 특정 범위의 수로 배열 생성\n",
        "arange = np.arange(0, 10, 2)\n",
        "print(\"0에서 10까지 2간격으로 생성된 배열:\", arange)"
      ],
      "metadata": {
        "id": "mFk85nwrGDao"
      },
      "execution_count": null,
      "outputs": []
    },
    {
      "cell_type": "markdown",
      "source": [
        "- np.random.rand(m, n): m x n 크기의 배열을 생성하고, 0과 1 사이의 랜덤 값을 할당합니다."
      ],
      "metadata": {
        "id": "pwQOaCAKGHJA"
      }
    },
    {
      "cell_type": "code",
      "source": [
        "# 랜덤 값으로 배열 생성\n",
        "random = np.random.rand(3, 3)\n",
        "print(\"랜덤 값으로 생성된 배열:\\n\", random)"
      ],
      "metadata": {
        "id": "sTeZ0WdNGH6K"
      },
      "execution_count": null,
      "outputs": []
    },
    {
      "cell_type": "markdown",
      "source": [
        "## 배열 연산"
      ],
      "metadata": {
        "id": "51SDba1AGLGj"
      }
    },
    {
      "cell_type": "markdown",
      "source": [
        "- a + b: 두 배열의 요소별 덧셈을 수행합니다.\n",
        "- a * b: 두 배열의 요소별 곱셈을 수행합니다."
      ],
      "metadata": {
        "id": "2ZkgBqBWGXir"
      }
    },
    {
      "cell_type": "code",
      "source": [
        "a = np.array([1, 2, 3])\n",
        "b = np.array([4, 5, 6])\n",
        "\n",
        "# 배열 간 덧셈\n",
        "print(\"배열 덧셈:\", a + b)\n",
        "\n",
        "# 배열 간 곱셈\n",
        "print(\"배열 곱셈:\", a * b)"
      ],
      "metadata": {
        "id": "U0ULQwkNGaqX"
      },
      "execution_count": null,
      "outputs": []
    },
    {
      "cell_type": "markdown",
      "source": [
        "- np.sin(a): 배열 a의 각 요소에 대해 사인 함수를 적용합니다."
      ],
      "metadata": {
        "id": "AJ7keRFKGbq2"
      }
    },
    {
      "cell_type": "code",
      "source": [
        "# 배열의 각 요소에 대한 함수 적용\n",
        "print(\"배열에 대한 sin 함수 적용:\", np.sin(a))"
      ],
      "metadata": {
        "id": "W4IUiPmNGdp9"
      },
      "execution_count": null,
      "outputs": []
    },
    {
      "cell_type": "markdown",
      "source": [
        "## 배열 슬라이싱 및 인덱싱"
      ],
      "metadata": {
        "id": "YoX6ovKYGfzY"
      }
    },
    {
      "cell_type": "markdown",
      "source": [
        "- arr[i, j]: 2차원 배열 arr의 (i, j) 위치의 요소를 반환합니다.\n",
        "- arr[i, :]: i번째 행의 모든 요소를 반환합니다.\n",
        "- arr[:, j]: j번째 열의 모든 요소를 반환합니다.\n",
        "- arr[start:stop, start:stop]: 지정된 범위의 서브 배열을 반환합니다."
      ],
      "metadata": {
        "id": "exp3SiekGmPj"
      }
    },
    {
      "cell_type": "code",
      "source": [
        "arr = np.array([[1, 2, 3], [4, 5, 6], [7, 8, 9]])\n",
        "\n",
        "# 특정 요소 접근\n",
        "print(\"arr[1, 2]:\", arr[1, 2])\n",
        "\n",
        "# 행 접근\n",
        "print(\"arr[1, :]:\", arr[1, :])\n",
        "\n",
        "# 열 접근\n",
        "print(\"arr[:, 1]:\", arr[:, 1])\n",
        "\n",
        "# 서브 배열 접근\n",
        "print(\"arr[0:2, 1:3]:\\n\", arr[0:2, 1:3])"
      ],
      "metadata": {
        "id": "JF16F_9UGrBs"
      },
      "execution_count": null,
      "outputs": []
    },
    {
      "cell_type": "markdown",
      "source": [
        "## 통계 함수"
      ],
      "metadata": {
        "id": "B8ffwmIYGs0P"
      }
    },
    {
      "cell_type": "markdown",
      "source": [
        "- np.mean(arr): 배열 arr의 평균을 계산합니다.\n",
        "- np.median(arr): 배열 arr의 중앙값을 계산합니다.\n",
        "- np.std(arr): 배열 arr의 표준 편차를 계산합니다.\n",
        "- np.max(arr): 배열 arr의 최대값을 반환합니다.\n",
        "- np.min(arr): 배열 arr의 최소값을 반환합니다."
      ],
      "metadata": {
        "id": "VPLlAi2CGu5v"
      }
    },
    {
      "cell_type": "code",
      "source": [
        "data = np.array([1, 2, 3, 4, 5, 6, 7, 8, 9])\n",
        "\n",
        "# 평균\n",
        "print(\"평균:\", np.mean(data))\n",
        "\n",
        "# 중앙값\n",
        "print(\"중앙값:\", np.median(data))\n",
        "\n",
        "# 표준 편차\n",
        "print(\"표준 편차:\", np.std(data))\n",
        "\n",
        "# 최대값\n",
        "print(\"최대값:\", np.max(data))\n",
        "\n",
        "# 최소값\n",
        "print(\"최소값:\", np.min(data))\n"
      ],
      "metadata": {
        "id": "ZiOlKcsKGyhY"
      },
      "execution_count": null,
      "outputs": []
    },
    {
      "cell_type": "markdown",
      "source": [
        "## 배열 형태 변경"
      ],
      "metadata": {
        "id": "szraGOtMGzha"
      }
    },
    {
      "cell_type": "markdown",
      "source": [
        "- arr.reshape((m, n)): 배열의 형태를 m x n으로 변경합니다."
      ],
      "metadata": {
        "id": "fGUrDIh_G43v"
      }
    },
    {
      "cell_type": "code",
      "source": [
        "arr = np.array([1, 2, 3, 4, 5, 6])\n",
        "\n",
        "# 2x3 배열로 변경\n",
        "reshaped_arr = arr.reshape((2, 3))\n",
        "print(\"2x3 배열로 변경:\\n\", reshaped_arr)"
      ],
      "metadata": {
        "id": "ntyOtMddG1yp"
      },
      "execution_count": null,
      "outputs": []
    },
    {
      "cell_type": "markdown",
      "source": [
        "- np.expand_dims(arr, axis): 배열에 새로운 차원을 추가합니다."
      ],
      "metadata": {
        "id": "_en_4GWHG3J8"
      }
    },
    {
      "cell_type": "code",
      "source": [
        "# 차원 추가\n",
        "expanded_arr = np.expand_dims(arr, axis=0)\n",
        "print(\"차원 추가:\\n\", expanded_arr)"
      ],
      "metadata": {
        "id": "iIaH7P0sG7cM"
      },
      "execution_count": null,
      "outputs": []
    },
    {
      "cell_type": "markdown",
      "source": [
        "- np.squeeze(arr): 배열에서 불필요한 차원을 제거합니다."
      ],
      "metadata": {
        "id": "dGwz5Vv4G9-S"
      }
    },
    {
      "cell_type": "code",
      "source": [
        "# 차원 축소\n",
        "squeezed_arr = np.squeeze(expanded_arr)\n",
        "print(\"차원 축소:\\n\", squeezed_arr)"
      ],
      "metadata": {
        "id": "tIrs4vcfHAeI"
      },
      "execution_count": null,
      "outputs": []
    },
    {
      "cell_type": "markdown",
      "source": [
        "## 파일 입출력"
      ],
      "metadata": {
        "id": "ePhIpYIwHCCB"
      }
    },
    {
      "cell_type": "markdown",
      "source": [
        "- np.save(filename, arr): 배열 arr을 파일 filename에 저장합니다.\n",
        "- np.load(filename): 파일 filename에서 저장된 배열을 불러옵니다."
      ],
      "metadata": {
        "id": "YfCkS1z9HK6x"
      }
    },
    {
      "cell_type": "code",
      "source": [
        "# 배열 저장\n",
        "data = np.array([1, 2, 3, 4, 5])\n",
        "np.save('data.npy', data)\n",
        "\n",
        "# 배열 불러오기\n",
        "loaded_data = np.load('data.npy')\n",
        "print(\"불러온 데이터:\", loaded_data)"
      ],
      "metadata": {
        "id": "bohl0giNHOAA"
      },
      "execution_count": null,
      "outputs": []
    },
    {
      "cell_type": "markdown",
      "source": [
        "# Pandas"
      ],
      "metadata": {
        "id": "dNePxEEy7HG2"
      }
    },
    {
      "cell_type": "markdown",
      "source": [
        "**프롬프터**\n",
        "1. 자 선생님 지금부터는 경제데이터를 분석하는데 필요한 pandas 라이브러리 지식을 핵심만 알려주세요. 예제가 있어야하고 IDE는 코랩을 씁니다. 또한 메소드별로 코드를 나눠줬으면 하고 설명은 자세하게 해주셨으면 합니다."
      ],
      "metadata": {
        "id": "eK8CggYE7KGF"
      }
    },
    {
      "cell_type": "markdown",
      "source": [
        "## 데이터 구조"
      ],
      "metadata": {
        "id": "_hGCFEaa7eDw"
      }
    },
    {
      "cell_type": "markdown",
      "source": [
        "- Series : 1차원 배열과 유사하며, 인덱스를 가지는 데이터입니다.\n",
        "- pd.Series(data): 주어진 데이터를 Series 객체로 변환합니다."
      ],
      "metadata": {
        "id": "YTcDuN727g49"
      }
    },
    {
      "cell_type": "code",
      "source": [
        "import pandas as pd\n",
        "\n",
        "# 리스트로부터 Series 생성\n",
        "s = pd.Series([1, 3, 5, 7, 9])\n",
        "print(\"Series:\\n\", s)"
      ],
      "metadata": {
        "id": "FvpdS9BG800o"
      },
      "execution_count": null,
      "outputs": []
    },
    {
      "cell_type": "markdown",
      "source": [
        "- DataFrame : 2차원 데이터를 표현하는 행과 열을 가지는 테이블입니다.\n",
        "- pd.DataFrame(data): 주어진 데이터를 DataFrame 객체로 변환합니다."
      ],
      "metadata": {
        "id": "VQmaLti-83qf"
      }
    },
    {
      "cell_type": "code",
      "source": [
        "# 딕셔너리로부터 DataFrame 생성\n",
        "data = {\n",
        "    'year': [2010, 2011, 2012, 2013],\n",
        "    'gdp': [1.5, 1.6, 1.7, 1.8]\n",
        "}\n",
        "df = pd.DataFrame(data)\n",
        "print(\"DataFrame:\\n\", df)"
      ],
      "metadata": {
        "id": "Mff4HXCA9Ghf"
      },
      "execution_count": null,
      "outputs": []
    },
    {
      "cell_type": "markdown",
      "source": [
        "## 데이터 파일 입출력"
      ],
      "metadata": {
        "id": "RiVru77S9H_E"
      }
    },
    {
      "cell_type": "markdown",
      "source": [
        "- pd.read_csv(filename): CSV 파일을 읽어 DataFrame 객체로 변환합니다.\n",
        "- df.to_csv(filename): DataFrame 객체를 CSV 파일로 저장합니다."
      ],
      "metadata": {
        "id": "-fXD-rF69aj7"
      }
    },
    {
      "cell_type": "code",
      "source": [
        "# CSV 파일 읽기\n",
        "df = pd.read_csv('data.csv')\n",
        "print(\"CSV 파일로부터 읽은 DataFrame:\\n\", df)"
      ],
      "metadata": {
        "id": "lTjvw5a49Mrd"
      },
      "execution_count": null,
      "outputs": []
    },
    {
      "cell_type": "code",
      "source": [
        "# DataFrame을 CSV 파일로 저장\n",
        "df.to_csv('output.csv', index=False)"
      ],
      "metadata": {
        "id": "WmDy4Xck9L7R"
      },
      "execution_count": null,
      "outputs": []
    },
    {
      "cell_type": "markdown",
      "source": [
        "## 데이터 탐색"
      ],
      "metadata": {
        "id": "kHyV6NSQ9d0-"
      }
    },
    {
      "cell_type": "markdown",
      "source": [
        "- df.head(): DataFrame의 처음 5행을 반환합니다.\n",
        "- df.info(): DataFrame의 요약 정보를 출력합니다.\n",
        "- df.describe(): 수치형 데이터의 통계 요약을 반환합니다."
      ],
      "metadata": {
        "id": "rMBN9u2m9fOa"
      }
    },
    {
      "cell_type": "code",
      "source": [
        "# 데이터의 처음 몇 행 보기\n",
        "print(\"처음 5행:\\n\", df.head())\n",
        "\n",
        "# 데이터의 기본 정보 보기\n",
        "print(\"데이터 정보:\\n\", df.info())\n",
        "\n",
        "# 데이터 통계 요약 보기\n",
        "print(\"통계 요약:\\n\", df.describe())"
      ],
      "metadata": {
        "id": "zkvAh-5E9gay"
      },
      "execution_count": null,
      "outputs": []
    },
    {
      "cell_type": "markdown",
      "source": [
        "## 데이터 선택 및 필터링"
      ],
      "metadata": {
        "id": "FvWCPu1d9kk7"
      }
    },
    {
      "cell_type": "markdown",
      "source": [
        "- 열 선택: 특정 열을 선택하여 Series 객체로 반환합니다.\n",
        "- df['column_name']: 지정된 열을 Series로 반환합니다."
      ],
      "metadata": {
        "id": "YE5m3TiR9oeq"
      }
    },
    {
      "cell_type": "code",
      "source": [
        "# 특정 열 선택\n",
        "gdp = df['gdp']\n",
        "print(\"GDP 열:\\n\", gdp)"
      ],
      "metadata": {
        "id": "EFzYLO8l9r5S"
      },
      "execution_count": null,
      "outputs": []
    },
    {
      "cell_type": "markdown",
      "source": [
        "- 조건으로 필터링: 특정 조건을 만족하는 행을 선택합니다.\n",
        "- df[condition]: 조건을 만족하는 행을 필터링하여 DataFrame으로 반환합니다."
      ],
      "metadata": {
        "id": "u3W8OqbO9uBh"
      }
    },
    {
      "cell_type": "code",
      "source": [
        "# 조건으로 필터링\n",
        "filtered_df = df[df['gdp'] > 1.6]\n",
        "print(\"GDP가 1.6 이상인 행:\\n\", filtered_df)"
      ],
      "metadata": {
        "id": "zWaA34ex9yQN"
      },
      "execution_count": null,
      "outputs": []
    },
    {
      "cell_type": "markdown",
      "source": [
        "## 데이터 정렬"
      ],
      "metadata": {
        "id": "JBiGzMte9z1y"
      }
    },
    {
      "cell_type": "markdown",
      "source": [
        "- 행 정렬: 특정 열을 기준으로 행을 정렬합니다.\n",
        "- df.sort_values(by='column_name', ascending=True/False): 지정된 열을 기준으로 DataFrame을 정렬합니다."
      ],
      "metadata": {
        "id": "7SdFRjct91UL"
      }
    },
    {
      "cell_type": "code",
      "source": [
        "# 특정 열을 기준으로 정렬\n",
        "sorted_df = df.sort_values(by='gdp', ascending=False)\n",
        "print(\"GDP 기준 내림차순 정렬:\\n\", sorted_df)"
      ],
      "metadata": {
        "id": "35vIu1rM96xb"
      },
      "execution_count": null,
      "outputs": []
    },
    {
      "cell_type": "markdown",
      "source": [
        "## 데이터 통계"
      ],
      "metadata": {
        "id": "YqhRgBsU98BP"
      }
    },
    {
      "cell_type": "markdown",
      "source": [
        "- 데이터 그룹화 및 집계: 특정 열을 기준으로 데이터를 그룹화하고, 집계함수를 적용합니다.\n",
        "- df.groupby('column_name').aggfunc(): 지정된 열을 기준으로 데이터를 그룹화하고, 집계함수를 적용합니다."
      ],
      "metadata": {
        "id": "tWmYemAo998n"
      }
    },
    {
      "cell_type": "code",
      "source": [
        "# 연도별 GDP 합계 계산\n",
        "grouped = df.groupby('year').sum()\n",
        "print(\"연도별 GDP 합계:\\n\", grouped)"
      ],
      "metadata": {
        "id": "3zPjz_9o-CHF"
      },
      "execution_count": null,
      "outputs": []
    },
    {
      "cell_type": "markdown",
      "source": [
        "## 결측치 처리"
      ],
      "metadata": {
        "id": "fr3Es0pD-Dfy"
      }
    },
    {
      "cell_type": "markdown",
      "source": [
        "- 결측치 확인 및 제거: 결측치를 확인하고 제거합니다.\n",
        "- df.isnull(): DataFrame에서 결측치를 확인합니다.\n",
        "- df.dropna(): 결측치가 있는 행을 제거합니다."
      ],
      "metadata": {
        "id": "OKRQe9Y7-EtL"
      }
    },
    {
      "cell_type": "code",
      "source": [
        "# 결측치 확인\n",
        "print(\"결측치 개수:\\n\", df.isnull().sum())\n",
        "\n",
        "# 결측치 제거\n",
        "df_cleaned = df.dropna()\n",
        "print(\"결측치 제거 후 데이터:\\n\", df_cleaned)"
      ],
      "metadata": {
        "id": "aQvHMpel-LtV"
      },
      "execution_count": null,
      "outputs": []
    },
    {
      "cell_type": "markdown",
      "source": [
        "## 데이터 추가 및 삭제"
      ],
      "metadata": {
        "id": "eFmOJg3Q-OBS"
      }
    },
    {
      "cell_type": "markdown",
      "source": [
        "- 행과 열 추가 및 삭제: 새로운 열을 추가하거나 기존의 행과 열을 삭제합니다.\n",
        "- df['new_column'] = data: 새로운 열을 추가합니다.\n",
        "- df.drop(columns=['column_name']): 특정 열을 삭제합니다."
      ],
      "metadata": {
        "id": "2Q2ASUXW-PNn"
      }
    },
    {
      "cell_type": "code",
      "source": [
        "# 새로운 열 추가\n",
        "df['growth_rate'] = df['gdp'].pct_change()\n",
        "print(\"성장률 추가:\\n\", df)\n",
        "\n",
        "# 특정 열 삭제\n",
        "df_dropped = df.drop(columns=['growth_rate'])\n",
        "print(\"성장률 열 삭제:\\n\", df_dropped)"
      ],
      "metadata": {
        "id": "G2iN5AL8-UZq"
      },
      "execution_count": null,
      "outputs": []
    },
    {
      "cell_type": "markdown",
      "source": [
        "## 데이터 병합"
      ],
      "metadata": {
        "id": "MQl2p4R0-Wgt"
      }
    },
    {
      "cell_type": "markdown",
      "source": [
        "- 두 개의 DataFrame을 병합합니다.\n",
        "- pd.concat([df1, df2]): 두 DataFrame을 병합합니다."
      ],
      "metadata": {
        "id": "1hPpokcB-X_b"
      }
    },
    {
      "cell_type": "code",
      "source": [
        "# 두 DataFrame 병합\n",
        "df1 = pd.DataFrame({'year': [2010, 2011], 'gdp': [1.5, 1.6]})\n",
        "df2 = pd.DataFrame({'year': [2012, 2013], 'gdp': [1.7, 1.8]})\n",
        "\n",
        "merged_df = pd.concat([df1, df2])\n",
        "print(\"병합된 DataFrame:\\n\", merged_df)"
      ],
      "metadata": {
        "id": "wrS3EKCG-cId"
      },
      "execution_count": null,
      "outputs": []
    }
  ]
}